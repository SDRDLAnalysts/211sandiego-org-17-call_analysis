{
 "metadata": {
  "name": "",
  "signature": "sha256:677b1a8e2869984a4221c8d7166f53635e75fe96571ed8151bac3854b48b9c85"
 },
 "nbformat": 3,
 "nbformat_minor": 0,
 "worksheets": [
  {
   "cells": [
    {
     "cell_type": "code",
     "collapsed": false,
     "input": [
      "import numpy as np\n",
      "import pandas as pd\n",
      "import matplotlib.pyplot as plt\n",
      "\n",
      "# You'll probably need to run 'sudo pip install sdipylib' for this to work\n",
      "from  sdipylib.url import cache_url\n"
     ],
     "language": "python",
     "metadata": {},
     "outputs": [],
     "prompt_number": 2
    },
    {
     "cell_type": "code",
     "collapsed": false,
     "input": [
      "# Original call data\n",
      "fn = cache_url('http://warehouse.sandiegodata.org/211/fc22cee6-acfa-4236-a6cb-e0d887eba178/211_orig_service_calls.csv')\n",
      "print fn\n",
      "# Read_csv guesses that some columns are numbers, and complains when a string appears, so we have to be \n",
      "# explicit about the datatyps of these columns. \n",
      "orig_calls = pd.read_csv(fn,dtype =  {16: str, 26: str, 27: str, 29: str})\n",
      "print len(orig_calls)"
     ],
     "language": "python",
     "metadata": {},
     "outputs": [
      {
       "output_type": "stream",
       "stream": "stdout",
       "text": [
        "Wrote 6828758 bytes, total 335652489\n"
       ]
      },
      {
       "output_type": "stream",
       "stream": "stdout",
       "text": [
        "/Users/Gonzalo/IPython Notebooks/211sandiego.org-17-call_analysis/analysts/211_orig_service_calls.csv\n",
        "894555"
       ]
      },
      {
       "output_type": "stream",
       "stream": "stdout",
       "text": [
        "\n"
       ]
      }
     ],
     "prompt_number": 3
    },
    {
     "cell_type": "code",
     "collapsed": false,
     "input": [
      "# De duplicated calls\n",
      "fn = cache_url('http://warehouse.sandiegodata.org/211/fc22cee6-acfa-4236-a6cb-e0d887eba178/211_deduped_service_calls.csv')\n",
      "print fn\n",
      "dd_calls = pd.read_csv(fn,dtype =  {15: str, 25: str, 27: str})"
     ],
     "language": "python",
     "metadata": {},
     "outputs": [
      {
       "output_type": "stream",
       "stream": "stdout",
       "text": [
        "Wrote 4475554 bytes, total 45179031\n"
       ]
      },
      {
       "output_type": "stream",
       "stream": "stdout",
       "text": [
        "/Users/Gonzalo/IPython Notebooks/211sandiego.org-17-call_analysis/analysts/211_deduped_service_calls.csv\n"
       ]
      }
     ],
     "prompt_number": 4
    },
    {
     "cell_type": "code",
     "collapsed": false,
     "input": [
      "len(dd_calls)"
     ],
     "language": "python",
     "metadata": {},
     "outputs": [
      {
       "metadata": {},
       "output_type": "pyout",
       "prompt_number": 5,
       "text": [
        "215563"
       ]
      }
     ],
     "prompt_number": 5
    },
    {
     "cell_type": "code",
     "collapsed": false,
     "input": [
      "dd_calls.columns"
     ],
     "language": "python",
     "metadata": {},
     "outputs": [
      {
       "metadata": {},
       "output_type": "pyout",
       "prompt_number": 7,
       "text": [
        "Index([u'id', u'call_stat', u'restrictions', u'create_time', u'client_id', u'queue', u'call_type', u'relationship', u'called_before', u'how_hear', u'have_ins', u'hshld_disabled', u'gender', u'age_goups', u'caller_age', u'preg_lt6', u'child_lt6', u'ethnicity', u'race', u'language', u'hshld_size', u'hshld_size_code', u'hshld_income', u'hshld_pct_fpl', u'hshld_pct_fpl_code', u'income_declined', u'zip', u'zip_code'], dtype='object')"
       ]
      }
     ],
     "prompt_number": 7
    },
    {
     "cell_type": "code",
     "collapsed": false,
     "input": [],
     "language": "python",
     "metadata": {},
     "outputs": []
    }
   ],
   "metadata": {}
  }
 ]
}