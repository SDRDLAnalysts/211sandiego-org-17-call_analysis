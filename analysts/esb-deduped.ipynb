{
 "metadata": {
  "name": "",
  "signature": "sha256:f04fd782525b4cde68bbb343ca9173feaaf3554ac33ab6980d9737f85742dc01"
 },
 "nbformat": 3,
 "nbformat_minor": 0,
 "worksheets": [
  {
   "cells": [
    {
     "cell_type": "code",
     "collapsed": false,
     "input": [
      "import numpy as np\n",
      "import pandas as pd\n",
      "import matplotlib.pyplot as plt\n",
      "\n",
      "# You'll probably need to run 'sudo pip install sdipylib' for this to work\n",
      "from  sdipylib.url import cache_url\n"
     ],
     "language": "python",
     "metadata": {},
     "outputs": [],
     "prompt_number": 1
    },
    {
     "cell_type": "code",
     "collapsed": false,
     "input": [
      "# Original call data\n",
      "fn = cache_url('http://warehouse.sandiegodata.org/211/fc22cee6-acfa-4236-a6cb-e0d887eba178/211_orig_service_calls.csv')\n",
      "print fn\n",
      "# Read_csv guesses that some columns are numbers, and complains when a string appears, so we have to be \n",
      "# explicit about the datatyps of these columns. \n",
      "orig_calls = pd.read_csv(fn,dtype =  {16: str, 26: str, 27: str, 29: str})\n",
      "print len(orig_calls)"
     ],
     "language": "python",
     "metadata": {},
     "outputs": [
      {
       "output_type": "stream",
       "stream": "stdout",
       "text": [
        "/Users/eric/proj/sdrdl-data-projects/211sandiego.org-17-call_analysis/analysts/211_orig_service_calls.csv\n",
        "894555"
       ]
      },
      {
       "output_type": "stream",
       "stream": "stdout",
       "text": [
        "\n"
       ]
      }
     ],
     "prompt_number": 8
    },
    {
     "cell_type": "code",
     "collapsed": false,
     "input": [
      "# De duplicated calls\n",
      "fn = cache_url('http://warehouse.sandiegodata.org/211/fc22cee6-acfa-4236-a6cb-e0d887eba178/211_deduped_service_calls.csv')\n",
      "print fn\n",
      "dd_calls = pd.read_csv(fn,dtype =  {15: str, 25: str, 27: str})"
     ],
     "language": "python",
     "metadata": {},
     "outputs": [
      {
       "output_type": "stream",
       "stream": "stdout",
       "text": [
        "/Users/eric/proj/sdrdl-data-projects/211sandiego.org-17-call_analysis/analysts/211_deduped_service_calls.csv\n"
       ]
      }
     ],
     "prompt_number": 10
    },
    {
     "cell_type": "code",
     "collapsed": false,
     "input": [
      "len(dd_calls)"
     ],
     "language": "python",
     "metadata": {},
     "outputs": [
      {
       "metadata": {},
       "output_type": "pyout",
       "prompt_number": 11,
       "text": [
        "215563"
       ]
      }
     ],
     "prompt_number": 11
    },
    {
     "cell_type": "code",
     "collapsed": false,
     "input": [],
     "language": "python",
     "metadata": {},
     "outputs": []
    }
   ],
   "metadata": {}
  }
 ]
}