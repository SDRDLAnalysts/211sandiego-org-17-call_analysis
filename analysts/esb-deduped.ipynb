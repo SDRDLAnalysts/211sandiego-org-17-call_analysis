{
 "metadata": {
  "name": "",
  "signature": "sha256:a835242e822a4d8f51ae8e1bb14aa086b14a695d21a719a06843ebde66273751"
 },
 "nbformat": 3,
 "nbformat_minor": 0,
 "worksheets": [
  {
   "cells": [
    {
     "cell_type": "code",
     "collapsed": false,
     "input": [
      "import numpy as np\n",
      "import pandas as pd\n",
      "import matplotlib.pyplot as plt\n",
      "\n",
      "# You'll probably need to run 'sudo pip install sdipylib' for this to work\n",
      "from  sdipylib.url import cache_url\n"
     ],
     "language": "python",
     "metadata": {},
     "outputs": [],
     "prompt_number": 1
    },
    {
     "cell_type": "code",
     "collapsed": false,
     "input": [
      "# Original call data\n",
      "fn = cache_url('http://warehouse.sandiegodata.org/211/fc22cee6-acfa-4236-a6cb-e0d887eba178/211_orig_service_calls.csv')\n",
      "print fn\n",
      "# Read_csv guesses that some columns are numbers, and complains when a string appears, so we have to be \n",
      "# explicit about the datatyps of these columns. \n",
      "orig_calls = pd.read_csv(fn,dtype =  {16: str, 26: str, 27: str, 29: str})\n",
      "print len(orig_calls)"
     ],
     "language": "python",
     "metadata": {},
     "outputs": [
      {
       "output_type": "stream",
       "stream": "stdout",
       "text": [
        "/Users/eric/proj/sdrdl-data-projects/211sandiego.org-17-call_analysis/analysts/211_orig_service_calls.csv\n",
        "894555"
       ]
      },
      {
       "output_type": "stream",
       "stream": "stdout",
       "text": [
        "\n"
       ]
      }
     ],
     "prompt_number": 8
    },
    {
     "cell_type": "code",
     "collapsed": false,
     "input": [
      "# De duplicated calls\n",
      "fn = cache_url('http://warehouse.sandiegodata.org/211/fc22cee6-acfa-4236-a6cb-e0d887eba178/211_deduped_service_calls.csv')\n",
      "print fn\n",
      "dd_calls = pd.read_csv(fn,dtype =  {15: str, 25: str, 27: str})"
     ],
     "language": "python",
     "metadata": {},
     "outputs": [
      {
       "output_type": "stream",
       "stream": "stdout",
       "text": [
        "Wrote 4475554 bytes, total 45179031\n"
       ]
      },
      {
       "output_type": "stream",
       "stream": "stdout",
       "text": [
        "/Users/eric/proj/sdrdl-data-projects/211sandiego.org-17-call_analysis/analysts/211_deduped_service_calls.csv\n"
       ]
      },
      {
       "output_type": "stream",
       "stream": "stderr",
       "text": [
        "/Library/Python/2.7/site-packages/pandas/io/parsers.py:1070: DtypeWarning: Columns (15,25,27) have mixed types. Specify dtype option on import or set low_memory=False.\n",
        "  data = self._reader.read(nrows)\n"
       ]
      }
     ],
     "prompt_number": 9
    },
    {
     "cell_type": "code",
     "collapsed": false,
     "input": [
      "len(dd_calls)"
     ],
     "language": "python",
     "metadata": {},
     "outputs": [
      {
       "metadata": {},
       "output_type": "pyout",
       "prompt_number": 7,
       "text": [
        "12035"
       ]
      }
     ],
     "prompt_number": 7
    },
    {
     "cell_type": "code",
     "collapsed": false,
     "input": [],
     "language": "python",
     "metadata": {},
     "outputs": []
    }
   ],
   "metadata": {}
  }
 ]
}