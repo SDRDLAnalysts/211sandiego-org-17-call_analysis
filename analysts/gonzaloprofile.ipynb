{
 "metadata": {
  "name": "",
  "signature": "sha256:bf0d19663d75fb7c69a16acbb5d6ad2c76d1dcb5a8ecf5a3bfaa4c38aa4fcd3b"
 },
 "nbformat": 3,
 "nbformat_minor": 0,
 "worksheets": [
  {
   "cells": [
    {
     "cell_type": "code",
     "collapsed": false,
     "input": [
      "%matplotlib inline\n",
      "import pandas as pd\n",
      "import matplotlib.pyplot as plt\n",
      "import numpy as np\n",
      "pd.options.display.max_columns = 50\n",
      "\n",
      "# You'll probably need to run 'sudo pip install sdipylib' for this to work\n",
      "from  sdipylib.url import cache_url\n",
      "from IPython.core.display import HTML\n",
      "print \"pandas\",pd.__version__\n",
      "print \"numpy\", np.__version__"
     ],
     "language": "python",
     "metadata": {},
     "outputs": [
      {
       "output_type": "stream",
       "stream": "stdout",
       "text": [
        "pandas 0.14.1\n",
        "numpy 1.8.2\n"
       ]
      }
     ],
     "prompt_number": 281
    },
    {
     "cell_type": "code",
     "collapsed": false,
     "input": [
      "# cache_url will download the URL and store it in a local file, but when it is called a second time, it uses the\n",
      "# downloaded file. You'll have to delete the file externally to get an update. \n",
      "fn  = cache_url('http://warehouse.sandiegodata.org/211/fc22cee6-acfa-4236-a6cb-e0d887eba178/211_deduped_service_calls.csv')\n",
      "fn2 = cache_url('http://warehouse.sandiegodata.org/211/fc22cee6-acfa-4236-a6cb-e0d887eba178/211_need_tax.csv')\n",
      "fn3 = cache_url('http://warehouse.sandiegodata.org/211/fc22cee6-acfa-4236-a6cb-e0d887eba178/211_orig_service_calls.csv')\n",
      "print fn\n",
      "print fn2\n",
      "print fn3\n",
      "\n",
      "# Read_csv guesses that some columns are numbers, and complains when a string appears, so we have to be \n",
      "# explicit about the datatyps of these columns. \n",
      "deduped = pd.read_csv(fn,dtype =   {15: str, 25: str, 27: str})\n",
      "needs = pd.read_csv(fn2)\n",
      "orig = pd.read_csv(fn3)"
     ],
     "language": "python",
     "metadata": {},
     "outputs": [
      {
       "output_type": "stream",
       "stream": "stdout",
       "text": [
        "/Users/Gonzalo/IPython Notebooks/211sandiego.org-17-call_analysis/analysts/211_deduped_service_calls.csv\n",
        "/Users/Gonzalo/IPython Notebooks/211sandiego.org-17-call_analysis/analysts/211_need_tax.csv\n",
        "/Users/Gonzalo/IPython Notebooks/211sandiego.org-17-call_analysis/analysts/211_orig_service_calls.csv\n"
       ]
      }
     ],
     "prompt_number": 312
    },
    {
     "cell_type": "markdown",
     "metadata": {},
     "source": [
      "#Utilities Profile\n",
      "\n",
      "1. Call volume distribution by week, month, year: When are they calling?\n",
      "2. Needs Category Distribution: What are they calling for?\n",
      "3. Gender distribution: A piechart\n",
      "4. Age group distribution: A bar chart\n",
      "5. Household size: A bar chart\n",
      "6. Gross Annual Income: A bar chart\n",
      "7. Avg Annual Gross Income by Household Size: A bar chart\n",
      "8. Referring agency frequency linked with whether need was met or not.\n",
      "9. Free exploration: race/ethnicity.\n"
     ]
    },
    {
     "cell_type": "markdown",
     "metadata": {},
     "source": [
      "---"
     ]
    },
    {
     "cell_type": "markdown",
     "metadata": {},
     "source": [
      "## Merge and Subset "
     ]
    },
    {
     "cell_type": "code",
     "collapsed": false,
     "input": [
      "deduped.head(2)"
     ],
     "language": "python",
     "metadata": {},
     "outputs": [
      {
       "html": [
        "<div style=\"max-height:1000px;max-width:1500px;overflow:auto;\">\n",
        "<table border=\"1\" class=\"dataframe\">\n",
        "  <thead>\n",
        "    <tr style=\"text-align: right;\">\n",
        "      <th></th>\n",
        "      <th>id</th>\n",
        "      <th>call_stat</th>\n",
        "      <th>restrictions</th>\n",
        "      <th>create_time</th>\n",
        "      <th>client_id</th>\n",
        "      <th>queue</th>\n",
        "      <th>call_type</th>\n",
        "      <th>relationship</th>\n",
        "      <th>called_before</th>\n",
        "      <th>how_hear</th>\n",
        "      <th>have_ins</th>\n",
        "      <th>hshld_disabled</th>\n",
        "      <th>gender</th>\n",
        "      <th>age_goups</th>\n",
        "      <th>caller_age</th>\n",
        "      <th>preg_lt6</th>\n",
        "      <th>child_lt6</th>\n",
        "      <th>ethnicity</th>\n",
        "      <th>race</th>\n",
        "      <th>language</th>\n",
        "      <th>hshld_size</th>\n",
        "      <th>hshld_size_code</th>\n",
        "      <th>hshld_income</th>\n",
        "      <th>hshld_pct_fpl</th>\n",
        "      <th>hshld_pct_fpl_code</th>\n",
        "      <th>income_declined</th>\n",
        "      <th>zip</th>\n",
        "      <th>zip_code</th>\n",
        "    </tr>\n",
        "  </thead>\n",
        "  <tbody>\n",
        "    <tr>\n",
        "      <th>0</th>\n",
        "      <td> 1</td>\n",
        "      <td> NaN</td>\n",
        "      <td> 211 San Diego</td>\n",
        "      <td>  07/01/2013 00:03:30.57451 PDT</td>\n",
        "      <td> 13110365</td>\n",
        "      <td> General</td>\n",
        "      <td> Assessment and Referral</td>\n",
        "      <td> Self</td>\n",
        "      <td> No</td>\n",
        "      <td>         Other</td>\n",
        "      <td> Yes</td>\n",
        "      <td> No</td>\n",
        "      <td> Female</td>\n",
        "      <td> NaN</td>\n",
        "      <td>NaN</td>\n",
        "      <td> NaN</td>\n",
        "      <td> 0</td>\n",
        "      <td> NaN</td>\n",
        "      <td> NaN</td>\n",
        "      <td> English</td>\n",
        "      <td>  3</td>\n",
        "      <td>       NaN</td>\n",
        "      <td>NaN</td>\n",
        "      <td>NaN</td>\n",
        "      <td> NaN</td>\n",
        "      <td> NaN</td>\n",
        "      <td> 92277</td>\n",
        "      <td> NaN</td>\n",
        "    </tr>\n",
        "    <tr>\n",
        "      <th>1</th>\n",
        "      <td> 5</td>\n",
        "      <td> NaN</td>\n",
        "      <td> 211 San Diego</td>\n",
        "      <td> 07/01/2013 00:06:18.147102 PDT</td>\n",
        "      <td> 13110367</td>\n",
        "      <td> General</td>\n",
        "      <td> Assessment and Referral</td>\n",
        "      <td> Self</td>\n",
        "      <td> No</td>\n",
        "      <td> Friend/Family</td>\n",
        "      <td> Yes</td>\n",
        "      <td> No</td>\n",
        "      <td> Female</td>\n",
        "      <td> NaN</td>\n",
        "      <td>NaN</td>\n",
        "      <td> NaN</td>\n",
        "      <td> 1</td>\n",
        "      <td> NaN</td>\n",
        "      <td> NaN</td>\n",
        "      <td> English</td>\n",
        "      <td>NaN</td>\n",
        "      <td> 7 or more</td>\n",
        "      <td>NaN</td>\n",
        "      <td>NaN</td>\n",
        "      <td> NaN</td>\n",
        "      <td> NaN</td>\n",
        "      <td> 91911</td>\n",
        "      <td> NaN</td>\n",
        "    </tr>\n",
        "  </tbody>\n",
        "</table>\n",
        "</div>"
       ],
       "metadata": {},
       "output_type": "pyout",
       "prompt_number": 283,
       "text": [
        "   id call_stat   restrictions                     create_time  client_id  \\\n",
        "0   1       NaN  211 San Diego   07/01/2013 00:03:30.57451 PDT   13110365   \n",
        "1   5       NaN  211 San Diego  07/01/2013 00:06:18.147102 PDT   13110367   \n",
        "\n",
        "     queue                call_type relationship called_before       how_hear  \\\n",
        "0  General  Assessment and Referral         Self            No          Other   \n",
        "1  General  Assessment and Referral         Self            No  Friend/Family   \n",
        "\n",
        "  have_ins hshld_disabled  gender age_goups  caller_age preg_lt6  child_lt6  \\\n",
        "0      Yes             No  Female       NaN         NaN      NaN          0   \n",
        "1      Yes             No  Female       NaN         NaN      NaN          1   \n",
        "\n",
        "  ethnicity race language  hshld_size hshld_size_code  hshld_income  \\\n",
        "0       NaN  NaN  English           3             NaN           NaN   \n",
        "1       NaN  NaN  English         NaN       7 or more           NaN   \n",
        "\n",
        "   hshld_pct_fpl hshld_pct_fpl_code income_declined    zip zip_code  \n",
        "0            NaN                NaN             NaN  92277      NaN  \n",
        "1            NaN                NaN             NaN  91911      NaN  "
       ]
      }
     ],
     "prompt_number": 283
    },
    {
     "cell_type": "code",
     "collapsed": false,
     "input": [
      "deduped = deduped.set_index(['id'])"
     ],
     "language": "python",
     "metadata": {},
     "outputs": [],
     "prompt_number": 284
    },
    {
     "cell_type": "code",
     "collapsed": false,
     "input": [
      "deduped.head(2)"
     ],
     "language": "python",
     "metadata": {},
     "outputs": [
      {
       "html": [
        "<div style=\"max-height:1000px;max-width:1500px;overflow:auto;\">\n",
        "<table border=\"1\" class=\"dataframe\">\n",
        "  <thead>\n",
        "    <tr style=\"text-align: right;\">\n",
        "      <th></th>\n",
        "      <th>call_stat</th>\n",
        "      <th>restrictions</th>\n",
        "      <th>create_time</th>\n",
        "      <th>client_id</th>\n",
        "      <th>queue</th>\n",
        "      <th>call_type</th>\n",
        "      <th>relationship</th>\n",
        "      <th>called_before</th>\n",
        "      <th>how_hear</th>\n",
        "      <th>have_ins</th>\n",
        "      <th>hshld_disabled</th>\n",
        "      <th>gender</th>\n",
        "      <th>age_goups</th>\n",
        "      <th>caller_age</th>\n",
        "      <th>preg_lt6</th>\n",
        "      <th>child_lt6</th>\n",
        "      <th>ethnicity</th>\n",
        "      <th>race</th>\n",
        "      <th>language</th>\n",
        "      <th>hshld_size</th>\n",
        "      <th>hshld_size_code</th>\n",
        "      <th>hshld_income</th>\n",
        "      <th>hshld_pct_fpl</th>\n",
        "      <th>hshld_pct_fpl_code</th>\n",
        "      <th>income_declined</th>\n",
        "      <th>zip</th>\n",
        "      <th>zip_code</th>\n",
        "    </tr>\n",
        "    <tr>\n",
        "      <th>id</th>\n",
        "      <th></th>\n",
        "      <th></th>\n",
        "      <th></th>\n",
        "      <th></th>\n",
        "      <th></th>\n",
        "      <th></th>\n",
        "      <th></th>\n",
        "      <th></th>\n",
        "      <th></th>\n",
        "      <th></th>\n",
        "      <th></th>\n",
        "      <th></th>\n",
        "      <th></th>\n",
        "      <th></th>\n",
        "      <th></th>\n",
        "      <th></th>\n",
        "      <th></th>\n",
        "      <th></th>\n",
        "      <th></th>\n",
        "      <th></th>\n",
        "      <th></th>\n",
        "      <th></th>\n",
        "      <th></th>\n",
        "      <th></th>\n",
        "      <th></th>\n",
        "      <th></th>\n",
        "      <th></th>\n",
        "    </tr>\n",
        "  </thead>\n",
        "  <tbody>\n",
        "    <tr>\n",
        "      <th>1</th>\n",
        "      <td> NaN</td>\n",
        "      <td> 211 San Diego</td>\n",
        "      <td>  07/01/2013 00:03:30.57451 PDT</td>\n",
        "      <td> 13110365</td>\n",
        "      <td> General</td>\n",
        "      <td> Assessment and Referral</td>\n",
        "      <td> Self</td>\n",
        "      <td> No</td>\n",
        "      <td>         Other</td>\n",
        "      <td> Yes</td>\n",
        "      <td> No</td>\n",
        "      <td> Female</td>\n",
        "      <td> NaN</td>\n",
        "      <td>NaN</td>\n",
        "      <td> NaN</td>\n",
        "      <td> 0</td>\n",
        "      <td> NaN</td>\n",
        "      <td> NaN</td>\n",
        "      <td> English</td>\n",
        "      <td>  3</td>\n",
        "      <td>       NaN</td>\n",
        "      <td>NaN</td>\n",
        "      <td>NaN</td>\n",
        "      <td> NaN</td>\n",
        "      <td> NaN</td>\n",
        "      <td> 92277</td>\n",
        "      <td> NaN</td>\n",
        "    </tr>\n",
        "    <tr>\n",
        "      <th>5</th>\n",
        "      <td> NaN</td>\n",
        "      <td> 211 San Diego</td>\n",
        "      <td> 07/01/2013 00:06:18.147102 PDT</td>\n",
        "      <td> 13110367</td>\n",
        "      <td> General</td>\n",
        "      <td> Assessment and Referral</td>\n",
        "      <td> Self</td>\n",
        "      <td> No</td>\n",
        "      <td> Friend/Family</td>\n",
        "      <td> Yes</td>\n",
        "      <td> No</td>\n",
        "      <td> Female</td>\n",
        "      <td> NaN</td>\n",
        "      <td>NaN</td>\n",
        "      <td> NaN</td>\n",
        "      <td> 1</td>\n",
        "      <td> NaN</td>\n",
        "      <td> NaN</td>\n",
        "      <td> English</td>\n",
        "      <td>NaN</td>\n",
        "      <td> 7 or more</td>\n",
        "      <td>NaN</td>\n",
        "      <td>NaN</td>\n",
        "      <td> NaN</td>\n",
        "      <td> NaN</td>\n",
        "      <td> 91911</td>\n",
        "      <td> NaN</td>\n",
        "    </tr>\n",
        "  </tbody>\n",
        "</table>\n",
        "</div>"
       ],
       "metadata": {},
       "output_type": "pyout",
       "prompt_number": 285,
       "text": [
        "   call_stat   restrictions                     create_time  client_id  \\\n",
        "id                                                                       \n",
        "1        NaN  211 San Diego   07/01/2013 00:03:30.57451 PDT   13110365   \n",
        "5        NaN  211 San Diego  07/01/2013 00:06:18.147102 PDT   13110367   \n",
        "\n",
        "      queue                call_type relationship called_before  \\\n",
        "id                                                                \n",
        "1   General  Assessment and Referral         Self            No   \n",
        "5   General  Assessment and Referral         Self            No   \n",
        "\n",
        "         how_hear have_ins hshld_disabled  gender age_goups  caller_age  \\\n",
        "id                                                                        \n",
        "1           Other      Yes             No  Female       NaN         NaN   \n",
        "5   Friend/Family      Yes             No  Female       NaN         NaN   \n",
        "\n",
        "   preg_lt6  child_lt6 ethnicity race language  hshld_size hshld_size_code  \\\n",
        "id                                                                           \n",
        "1       NaN          0       NaN  NaN  English           3             NaN   \n",
        "5       NaN          1       NaN  NaN  English         NaN       7 or more   \n",
        "\n",
        "    hshld_income  hshld_pct_fpl hshld_pct_fpl_code income_declined    zip  \\\n",
        "id                                                                          \n",
        "1            NaN            NaN                NaN             NaN  92277   \n",
        "5            NaN            NaN                NaN             NaN  91911   \n",
        "\n",
        "   zip_code  \n",
        "id           \n",
        "1       NaN  \n",
        "5       NaN  "
       ]
      }
     ],
     "prompt_number": 285
    },
    {
     "cell_type": "code",
     "collapsed": false,
     "input": [
      "needs.head(2)"
     ],
     "language": "python",
     "metadata": {},
     "outputs": [
      {
       "html": [
        "<div style=\"max-height:1000px;max-width:1500px;overflow:auto;\">\n",
        "<table border=\"1\" class=\"dataframe\">\n",
        "  <thead>\n",
        "    <tr style=\"text-align: right;\">\n",
        "      <th></th>\n",
        "      <th>id</th>\n",
        "      <th>calls_id</th>\n",
        "      <th>need_tax_code</th>\n",
        "      <th>need_tax_cat</th>\n",
        "    </tr>\n",
        "  </thead>\n",
        "  <tbody>\n",
        "    <tr>\n",
        "      <th>0</th>\n",
        "      <td> 1</td>\n",
        "      <td>  94397</td>\n",
        "      <td> BD-1800.8200-250</td>\n",
        "      <td>                Formula/Baby Food</td>\n",
        "    </tr>\n",
        "    <tr>\n",
        "      <th>1</th>\n",
        "      <td> 2</td>\n",
        "      <td>  64316</td>\n",
        "      <td>     LH-6700.6250</td>\n",
        "      <td> Prescription Drug Discount Cards</td>\n",
        "    </tr>\n",
        "    <tr>\n",
        "      <th>2</th>\n",
        "      <td> 3</td>\n",
        "      <td> 866894</td>\n",
        "      <td> BV-8900.9300-250</td>\n",
        "      <td>   Gas Service Payment Assistance</td>\n",
        "    </tr>\n",
        "    <tr>\n",
        "      <th>3</th>\n",
        "      <td> 4</td>\n",
        "      <td> 866894</td>\n",
        "      <td>     BV-8900.1700</td>\n",
        "      <td>      Discounted Utility Services</td>\n",
        "    </tr>\n",
        "    <tr>\n",
        "      <th>4</th>\n",
        "      <td> 5</td>\n",
        "      <td> 283551</td>\n",
        "      <td>     FC-2000.8000</td>\n",
        "      <td>                    Supreme Court</td>\n",
        "    </tr>\n",
        "  </tbody>\n",
        "</table>\n",
        "</div>"
       ],
       "metadata": {},
       "output_type": "pyout",
       "prompt_number": 313,
       "text": [
        "   id  calls_id     need_tax_code                      need_tax_cat\n",
        "0   1     94397  BD-1800.8200-250                 Formula/Baby Food\n",
        "1   2     64316      LH-6700.6250  Prescription Drug Discount Cards\n",
        "2   3    866894  BV-8900.9300-250    Gas Service Payment Assistance\n",
        "3   4    866894      BV-8900.1700       Discounted Utility Services\n",
        "4   5    283551      FC-2000.8000                     Supreme Court"
       ]
      }
     ],
     "prompt_number": 313
    },
    {
     "cell_type": "code",
     "collapsed": false,
     "input": [
      "needs = needs.drop('id', 1)\n",
      "needs = needs.set_index(['calls_id'])\n",
      "needs.index.names = ['id']"
     ],
     "language": "python",
     "metadata": {},
     "outputs": [],
     "prompt_number": 314
    },
    {
     "cell_type": "code",
     "collapsed": false,
     "input": [
      "needs.head(2)"
     ],
     "language": "python",
     "metadata": {},
     "outputs": [
      {
       "html": [
        "<div style=\"max-height:1000px;max-width:1500px;overflow:auto;\">\n",
        "<table border=\"1\" class=\"dataframe\">\n",
        "  <thead>\n",
        "    <tr style=\"text-align: right;\">\n",
        "      <th></th>\n",
        "      <th>need_tax_code</th>\n",
        "      <th>need_tax_cat</th>\n",
        "    </tr>\n",
        "    <tr>\n",
        "      <th>id</th>\n",
        "      <th></th>\n",
        "      <th></th>\n",
        "    </tr>\n",
        "  </thead>\n",
        "  <tbody>\n",
        "    <tr>\n",
        "      <th>94397</th>\n",
        "      <td> BD-1800.8200-250</td>\n",
        "      <td>                Formula/Baby Food</td>\n",
        "    </tr>\n",
        "    <tr>\n",
        "      <th>64316</th>\n",
        "      <td>     LH-6700.6250</td>\n",
        "      <td> Prescription Drug Discount Cards</td>\n",
        "    </tr>\n",
        "  </tbody>\n",
        "</table>\n",
        "</div>"
       ],
       "metadata": {},
       "output_type": "pyout",
       "prompt_number": 315,
       "text": [
        "          need_tax_code                      need_tax_cat\n",
        "id                                                       \n",
        "94397  BD-1800.8200-250                 Formula/Baby Food\n",
        "64316      LH-6700.6250  Prescription Drug Discount Cards"
       ]
      }
     ],
     "prompt_number": 315
    },
    {
     "cell_type": "code",
     "collapsed": false,
     "input": [
      "# First, fill out NaN's in NEED_TAX_CODE for future comparison\n",
      "needs.need_tax_code = needs.need_tax_code.fillna(\"\")\n",
      "\n",
      "# A mask / filter for UTILITIES\n",
      "BV = needs.need_tax_code.str.contains(\"BV\")\n",
      "\n",
      "# A subset of the dataset containing UTILITIES needs only\n",
      "needsBV = needs[BV]"
     ],
     "language": "python",
     "metadata": {},
     "outputs": [],
     "prompt_number": 290
    },
    {
     "cell_type": "code",
     "collapsed": false,
     "input": [
      "needsBV = needsBV.sort_index(axis=0, by=None, ascending=True)"
     ],
     "language": "python",
     "metadata": {},
     "outputs": [],
     "prompt_number": 291
    },
    {
     "cell_type": "code",
     "collapsed": false,
     "input": [
      "needsBV.head(2)"
     ],
     "language": "python",
     "metadata": {},
     "outputs": [
      {
       "html": [
        "<div style=\"max-height:1000px;max-width:1500px;overflow:auto;\">\n",
        "<table border=\"1\" class=\"dataframe\">\n",
        "  <thead>\n",
        "    <tr style=\"text-align: right;\">\n",
        "      <th></th>\n",
        "      <th>need_tax_code</th>\n",
        "      <th>need_tax_cat</th>\n",
        "    </tr>\n",
        "    <tr>\n",
        "      <th>id</th>\n",
        "      <th></th>\n",
        "      <th></th>\n",
        "    </tr>\n",
        "  </thead>\n",
        "  <tbody>\n",
        "    <tr>\n",
        "      <th>15</th>\n",
        "      <td> BV-8900.9300-250</td>\n",
        "      <td> Gas Service Payment Assistance</td>\n",
        "    </tr>\n",
        "    <tr>\n",
        "      <th>50</th>\n",
        "      <td> BV-8900.9300-250</td>\n",
        "      <td> Gas Service Payment Assistance</td>\n",
        "    </tr>\n",
        "  </tbody>\n",
        "</table>\n",
        "</div>"
       ],
       "metadata": {},
       "output_type": "pyout",
       "prompt_number": 292,
       "text": [
        "       need_tax_code                    need_tax_cat\n",
        "id                                                  \n",
        "15  BV-8900.9300-250  Gas Service Payment Assistance\n",
        "50  BV-8900.9300-250  Gas Service Payment Assistance"
       ]
      }
     ],
     "prompt_number": 292
    },
    {
     "cell_type": "code",
     "collapsed": false,
     "input": [
      "bvdf = needsBV.join(deduped, how='left')"
     ],
     "language": "python",
     "metadata": {},
     "outputs": [],
     "prompt_number": 293
    },
    {
     "cell_type": "code",
     "collapsed": false,
     "input": [
      "bvdf.head()"
     ],
     "language": "python",
     "metadata": {},
     "outputs": [
      {
       "html": [
        "<div style=\"max-height:1000px;max-width:1500px;overflow:auto;\">\n",
        "<table border=\"1\" class=\"dataframe\">\n",
        "  <thead>\n",
        "    <tr style=\"text-align: right;\">\n",
        "      <th></th>\n",
        "      <th>need_tax_code</th>\n",
        "      <th>need_tax_cat</th>\n",
        "      <th>call_stat</th>\n",
        "      <th>restrictions</th>\n",
        "      <th>create_time</th>\n",
        "      <th>client_id</th>\n",
        "      <th>queue</th>\n",
        "      <th>call_type</th>\n",
        "      <th>relationship</th>\n",
        "      <th>called_before</th>\n",
        "      <th>how_hear</th>\n",
        "      <th>have_ins</th>\n",
        "      <th>hshld_disabled</th>\n",
        "      <th>gender</th>\n",
        "      <th>age_goups</th>\n",
        "      <th>caller_age</th>\n",
        "      <th>preg_lt6</th>\n",
        "      <th>child_lt6</th>\n",
        "      <th>ethnicity</th>\n",
        "      <th>race</th>\n",
        "      <th>language</th>\n",
        "      <th>hshld_size</th>\n",
        "      <th>hshld_size_code</th>\n",
        "      <th>hshld_income</th>\n",
        "      <th>hshld_pct_fpl</th>\n",
        "      <th>hshld_pct_fpl_code</th>\n",
        "      <th>income_declined</th>\n",
        "      <th>zip</th>\n",
        "      <th>zip_code</th>\n",
        "    </tr>\n",
        "    <tr>\n",
        "      <th>id</th>\n",
        "      <th></th>\n",
        "      <th></th>\n",
        "      <th></th>\n",
        "      <th></th>\n",
        "      <th></th>\n",
        "      <th></th>\n",
        "      <th></th>\n",
        "      <th></th>\n",
        "      <th></th>\n",
        "      <th></th>\n",
        "      <th></th>\n",
        "      <th></th>\n",
        "      <th></th>\n",
        "      <th></th>\n",
        "      <th></th>\n",
        "      <th></th>\n",
        "      <th></th>\n",
        "      <th></th>\n",
        "      <th></th>\n",
        "      <th></th>\n",
        "      <th></th>\n",
        "      <th></th>\n",
        "      <th></th>\n",
        "      <th></th>\n",
        "      <th></th>\n",
        "      <th></th>\n",
        "      <th></th>\n",
        "      <th></th>\n",
        "      <th></th>\n",
        "    </tr>\n",
        "  </thead>\n",
        "  <tbody>\n",
        "    <tr>\n",
        "      <th>15 </th>\n",
        "      <td> BV-8900.9300-250</td>\n",
        "      <td>      Gas Service Payment Assistance</td>\n",
        "      <td> NaN</td>\n",
        "      <td> 211 San Diego</td>\n",
        "      <td> 07/01/2013 04:36:45.671108 PDT</td>\n",
        "      <td> 13110515</td>\n",
        "      <td> Utilities</td>\n",
        "      <td> Assessment and Referral</td>\n",
        "      <td> Self</td>\n",
        "      <td> Yes</td>\n",
        "      <td> Repeat Caller</td>\n",
        "      <td> Yes</td>\n",
        "      <td>               Yes</td>\n",
        "      <td>   Male</td>\n",
        "      <td>               NaN</td>\n",
        "      <td>NaN</td>\n",
        "      <td> NaN</td>\n",
        "      <td> 0</td>\n",
        "      <td>                               NaN</td>\n",
        "      <td>               NaN</td>\n",
        "      <td> English</td>\n",
        "      <td>  3</td>\n",
        "      <td>               NaN</td>\n",
        "      <td>   NaN</td>\n",
        "      <td>NaN</td>\n",
        "      <td> NaN</td>\n",
        "      <td> NaN</td>\n",
        "      <td> 91942</td>\n",
        "      <td> NaN</td>\n",
        "    </tr>\n",
        "    <tr>\n",
        "      <th>50 </th>\n",
        "      <td> BV-8900.9300-250</td>\n",
        "      <td>      Gas Service Payment Assistance</td>\n",
        "      <td> NaN</td>\n",
        "      <td> 211 San Diego</td>\n",
        "      <td>  07/01/2013 06:52:12.13467 PDT</td>\n",
        "      <td> 13111812</td>\n",
        "      <td> Utilities</td>\n",
        "      <td> Assessment and Referral</td>\n",
        "      <td> Self</td>\n",
        "      <td> Yes</td>\n",
        "      <td> Repeat Caller</td>\n",
        "      <td> Yes</td>\n",
        "      <td>               Yes</td>\n",
        "      <td>   Male</td>\n",
        "      <td>    50 to 54 years</td>\n",
        "      <td>NaN</td>\n",
        "      <td> NaN</td>\n",
        "      <td> 0</td>\n",
        "      <td> Hispanic/Latino or Spanish Origin</td>\n",
        "      <td>               NaN</td>\n",
        "      <td> English</td>\n",
        "      <td>  2</td>\n",
        "      <td>               NaN</td>\n",
        "      <td>     0</td>\n",
        "      <td>NaN</td>\n",
        "      <td> NaN</td>\n",
        "      <td> NaN</td>\n",
        "      <td> 92103</td>\n",
        "      <td> NaN</td>\n",
        "    </tr>\n",
        "    <tr>\n",
        "      <th>80 </th>\n",
        "      <td> BV-8900.9300-180</td>\n",
        "      <td> Electric Service Payment Assistance</td>\n",
        "      <td> NaN</td>\n",
        "      <td> 211 San Diego</td>\n",
        "      <td> 07/01/2013 07:24:53.505671 PDT</td>\n",
        "      <td> 13112528</td>\n",
        "      <td> Utilities</td>\n",
        "      <td> Assessment and Referral</td>\n",
        "      <td> Self</td>\n",
        "      <td> Yes</td>\n",
        "      <td>           NaN</td>\n",
        "      <td>  No</td>\n",
        "      <td>                No</td>\n",
        "      <td> Female</td>\n",
        "      <td>    50 to 54 years</td>\n",
        "      <td>NaN</td>\n",
        "      <td> NaN</td>\n",
        "      <td> 0</td>\n",
        "      <td>            Non-Hispanic or Latino</td>\n",
        "      <td> White - Caucasian</td>\n",
        "      <td> English</td>\n",
        "      <td>  2</td>\n",
        "      <td>               NaN</td>\n",
        "      <td> 60000</td>\n",
        "      <td>NaN</td>\n",
        "      <td> NaN</td>\n",
        "      <td> NaN</td>\n",
        "      <td> 91942</td>\n",
        "      <td> NaN</td>\n",
        "    </tr>\n",
        "    <tr>\n",
        "      <th>116</th>\n",
        "      <td> BV-8900.9300-180</td>\n",
        "      <td> Electric Service Payment Assistance</td>\n",
        "      <td> NaN</td>\n",
        "      <td> 211 San Diego</td>\n",
        "      <td> 07/01/2013 07:59:03.397587 PDT</td>\n",
        "      <td> 13113436</td>\n",
        "      <td> Utilities</td>\n",
        "      <td> Assessment and Referral</td>\n",
        "      <td> Self</td>\n",
        "      <td> Yes</td>\n",
        "      <td>           NaN</td>\n",
        "      <td> NaN</td>\n",
        "      <td> Declined to State</td>\n",
        "      <td> Female</td>\n",
        "      <td> Declined to State</td>\n",
        "      <td>NaN</td>\n",
        "      <td> NaN</td>\n",
        "      <td> 0</td>\n",
        "      <td>                 Declined to State</td>\n",
        "      <td> Declined to State</td>\n",
        "      <td> English</td>\n",
        "      <td>NaN</td>\n",
        "      <td> Declined to State</td>\n",
        "      <td>     0</td>\n",
        "      <td>NaN</td>\n",
        "      <td> NaN</td>\n",
        "      <td> NaN</td>\n",
        "      <td> 92115</td>\n",
        "      <td> NaN</td>\n",
        "    </tr>\n",
        "    <tr>\n",
        "      <th>133</th>\n",
        "      <td> BV-8900.9300-180</td>\n",
        "      <td> Electric Service Payment Assistance</td>\n",
        "      <td> NaN</td>\n",
        "      <td> 211 San Diego</td>\n",
        "      <td> 07/01/2013 08:15:05.241345 PDT</td>\n",
        "      <td> 13113902</td>\n",
        "      <td> Utilities</td>\n",
        "      <td>             Information</td>\n",
        "      <td> Self</td>\n",
        "      <td> Yes</td>\n",
        "      <td> Repeat Caller</td>\n",
        "      <td> NaN</td>\n",
        "      <td> Declined to State</td>\n",
        "      <td> Female</td>\n",
        "      <td>               NaN</td>\n",
        "      <td>NaN</td>\n",
        "      <td> NaN</td>\n",
        "      <td> 0</td>\n",
        "      <td>                               NaN</td>\n",
        "      <td>               NaN</td>\n",
        "      <td> English</td>\n",
        "      <td>NaN</td>\n",
        "      <td> Declined to State</td>\n",
        "      <td>     0</td>\n",
        "      <td>NaN</td>\n",
        "      <td> NaN</td>\n",
        "      <td> NaN</td>\n",
        "      <td> 92054</td>\n",
        "      <td> NaN</td>\n",
        "    </tr>\n",
        "  </tbody>\n",
        "</table>\n",
        "</div>"
       ],
       "metadata": {},
       "output_type": "pyout",
       "prompt_number": 294,
       "text": [
        "        need_tax_code                         need_tax_cat call_stat  \\\n",
        "id                                                                     \n",
        "15   BV-8900.9300-250       Gas Service Payment Assistance       NaN   \n",
        "50   BV-8900.9300-250       Gas Service Payment Assistance       NaN   \n",
        "80   BV-8900.9300-180  Electric Service Payment Assistance       NaN   \n",
        "116  BV-8900.9300-180  Electric Service Payment Assistance       NaN   \n",
        "133  BV-8900.9300-180  Electric Service Payment Assistance       NaN   \n",
        "\n",
        "      restrictions                     create_time  client_id      queue  \\\n",
        "id                                                                         \n",
        "15   211 San Diego  07/01/2013 04:36:45.671108 PDT   13110515  Utilities   \n",
        "50   211 San Diego   07/01/2013 06:52:12.13467 PDT   13111812  Utilities   \n",
        "80   211 San Diego  07/01/2013 07:24:53.505671 PDT   13112528  Utilities   \n",
        "116  211 San Diego  07/01/2013 07:59:03.397587 PDT   13113436  Utilities   \n",
        "133  211 San Diego  07/01/2013 08:15:05.241345 PDT   13113902  Utilities   \n",
        "\n",
        "                   call_type relationship called_before       how_hear  \\\n",
        "id                                                                       \n",
        "15   Assessment and Referral         Self           Yes  Repeat Caller   \n",
        "50   Assessment and Referral         Self           Yes  Repeat Caller   \n",
        "80   Assessment and Referral         Self           Yes            NaN   \n",
        "116  Assessment and Referral         Self           Yes            NaN   \n",
        "133              Information         Self           Yes  Repeat Caller   \n",
        "\n",
        "    have_ins     hshld_disabled  gender          age_goups  caller_age  \\\n",
        "id                                                                       \n",
        "15       Yes                Yes    Male                NaN         NaN   \n",
        "50       Yes                Yes    Male     50 to 54 years         NaN   \n",
        "80        No                 No  Female     50 to 54 years         NaN   \n",
        "116      NaN  Declined to State  Female  Declined to State         NaN   \n",
        "133      NaN  Declined to State  Female                NaN         NaN   \n",
        "\n",
        "    preg_lt6  child_lt6                          ethnicity               race  \\\n",
        "id                                                                              \n",
        "15       NaN          0                                NaN                NaN   \n",
        "50       NaN          0  Hispanic/Latino or Spanish Origin                NaN   \n",
        "80       NaN          0             Non-Hispanic or Latino  White - Caucasian   \n",
        "116      NaN          0                  Declined to State  Declined to State   \n",
        "133      NaN          0                                NaN                NaN   \n",
        "\n",
        "    language  hshld_size    hshld_size_code  hshld_income  hshld_pct_fpl  \\\n",
        "id                                                                         \n",
        "15   English           3                NaN           NaN            NaN   \n",
        "50   English           2                NaN             0            NaN   \n",
        "80   English           2                NaN         60000            NaN   \n",
        "116  English         NaN  Declined to State             0            NaN   \n",
        "133  English         NaN  Declined to State             0            NaN   \n",
        "\n",
        "    hshld_pct_fpl_code income_declined    zip zip_code  \n",
        "id                                                      \n",
        "15                 NaN             NaN  91942      NaN  \n",
        "50                 NaN             NaN  92103      NaN  \n",
        "80                 NaN             NaN  91942      NaN  \n",
        "116                NaN             NaN  92115      NaN  \n",
        "133                NaN             NaN  92054      NaN  "
       ]
      }
     ],
     "prompt_number": 294
    },
    {
     "cell_type": "markdown",
     "metadata": {},
     "source": [
      "##1. Time of Call"
     ]
    },
    {
     "cell_type": "code",
     "collapsed": false,
     "input": [
      "from datetime import datetime\n",
      "def string_to_date(date_string):\n",
      "    return datetime.strptime(date_string, \"%m/%d/%Y %H:%M:%S.%f %Z\")\n",
      "\n",
      "# Run the function on every date string and overwrite the column\n",
      "bvdf.create_time = bvdf.create_time.apply(string_to_date)"
     ],
     "language": "python",
     "metadata": {},
     "outputs": [],
     "prompt_number": 295
    },
    {
     "cell_type": "code",
     "collapsed": false,
     "input": [
      "bvdf[\"week\"] = bvdf.create_time.apply(lambda d : d.week)\n",
      "call_volume_per_week = bvdf.groupby(['week']).size()\n",
      "\n",
      "bvdf[\"month\"] = bvdf.create_time.apply(lambda d : d.month)\n",
      "call_volume_per_month = bvdf.groupby(['month']).size()\n",
      "\n",
      "bvdf[\"weekday\"] = bvdf.create_time.apply(lambda d : d.weekday())\n",
      "call_volume_per_weekday = bvdf.groupby(['weekday']).size()\n",
      "\n",
      "bvdf[\"hour\"] = bvdf.create_time.apply(lambda d : d.hour)\n",
      "call_volume_per_hour = bvdf.groupby(['hour']).size()"
     ],
     "language": "python",
     "metadata": {},
     "outputs": [],
     "prompt_number": 296
    },
    {
     "cell_type": "code",
     "collapsed": false,
     "input": [
      "call_volume_per_month.plot(kind='bar', ylim=(0,5000),figsize=(12, 4))"
     ],
     "language": "python",
     "metadata": {},
     "outputs": [
      {
       "metadata": {},
       "output_type": "pyout",
       "prompt_number": 297,
       "text": [
        "<matplotlib.axes.AxesSubplot at 0x1570fc590>"
       ]
      },
      {
       "metadata": {},
       "output_type": "display_data",
       "png": "[encoded data removed]",
       "text": [
        "<matplotlib.figure.Figure at 0x159d05e50>"
       ]
      }
     ],
     "prompt_number": 297
    },
    {
     "cell_type": "code",
     "collapsed": false,
     "input": [
      "call_volume_per_week.plot(kind='bar',ylim=(0,1000),figsize=(12, 4))"
     ],
     "language": "python",
     "metadata": {},
     "outputs": [
      {
       "metadata": {},
       "output_type": "pyout",
       "prompt_number": 298,
       "text": [
        "<matplotlib.axes.AxesSubplot at 0x159d24910>"
       ]
      },
      {
       "metadata": {},
       "output_type": "display_data",
       "png": "[encoded data removed]",
       "text": [
        "<matplotlib.figure.Figure at 0x159d05ed0>"
       ]
      }
     ],
     "prompt_number": 298
    },
    {
     "cell_type": "code",
     "collapsed": false,
     "input": [
      "weekday_v_hour = bvdf[[\"weekday\", \"hour\"]].groupby([\"weekday\",\"hour\"]).size().unstack(level=1).fillna(0)\n",
      "\n",
      "plt.pcolor(weekday_v_hour) #Blues,Reds,Oranges,Greens,Purples\n",
      "plt.yticks(np.arange(0, len(weekday_v_hour.index), 1), weekday_v_hour.index)\n",
      "plt.xticks(np.arange(0, len(weekday_v_hour.columns), 1), weekday_v_hour.columns)\n",
      "plt.title(\"Call Volume\")\n",
      "plt.xlabel(\"Hour of day\")\n",
      "plt.ylabel(\"Day of the week\")\n",
      "plt.xlim(4,22)\n",
      "plt.show()"
     ],
     "language": "python",
     "metadata": {},
     "outputs": [
      {
       "metadata": {},
       "output_type": "display_data",
       "png": "[encoded data removed]",
       "text": [
        "<matplotlib.figure.Figure at 0x16245bb50>"
       ]
      }
     ],
     "prompt_number": 299
    },
    {
     "cell_type": "markdown",
     "metadata": {},
     "source": [
      "##3. Gender Distribution"
     ]
    },
    {
     "cell_type": "code",
     "collapsed": false,
     "input": [
      "print bvdf.gender.value_counts()\n",
      "bvdf.gender.value_counts().plot(kind='pie')"
     ],
     "language": "python",
     "metadata": {},
     "outputs": [
      {
       "output_type": "stream",
       "stream": "stdout",
       "text": [
        "Female    23445\n",
        "Male       7468\n",
        "dtype: int64\n"
       ]
      },
      {
       "metadata": {},
       "output_type": "pyout",
       "prompt_number": 300,
       "text": [
        "<matplotlib.axes.AxesSubplot at 0x16246cd90>"
       ]
      },
      {
       "metadata": {},
       "output_type": "display_data",
       "png": "[encoded data removed]",
       "text": [
        "<matplotlib.figure.Figure at 0x159d24950>"
       ]
      }
     ],
     "prompt_number": 300
    },
    {
     "cell_type": "markdown",
     "metadata": {},
     "source": [
      "## 4. Age group distribution: A bar chart\n"
     ]
    },
    {
     "cell_type": "code",
     "collapsed": false,
     "input": [
      "age = pd.DataFrame({'age_group':bvdf.age_goups.value_counts()})\n",
      "age = age.sort_index(axis=0, by=None, ascending=True).T\n",
      "age = age[['Under 5 years','5 to 9 years',\n",
      "         '10 to 14 years','15 to 19 years',\n",
      "         '20 to 24 years','25 to 29 years',\n",
      "         '30 to 34 years','35 to 39 years',\n",
      "         '40 to 44 years','45 to 49 years',\n",
      "         '50 to 54 years','55 to 59 years',\n",
      "         '60 to 64 years','65 to 69 years',\n",
      "         '70 to 74 years','75 to 79 years',\n",
      "         '80 to 84 years','85 to 89 years',\n",
      "         '90 to 94 years','95 to 99 years',\n",
      "         '100 years and older','Declined to State']].T\n",
      "age.plot(kind='barh',figsize=(10, 6))"
     ],
     "language": "python",
     "metadata": {},
     "outputs": [
      {
       "metadata": {},
       "output_type": "pyout",
       "prompt_number": 301,
       "text": [
        "<matplotlib.axes.AxesSubplot at 0x10b2748d0>"
       ]
      },
      {
       "metadata": {},
       "output_type": "display_data",
       "png": "[encoded data removed]",
       "text": [
        "<matplotlib.figure.Figure at 0x10b26a310>"
       ]
      }
     ],
     "prompt_number": 301
    },
    {
     "cell_type": "markdown",
     "metadata": {},
     "source": [
      "## 5. Household size: A bar chart\n"
     ]
    },
    {
     "cell_type": "code",
     "collapsed": false,
     "input": [
      "bvdf[['age_goups','hshld_size']].groupby('hshld_size').size().plot(kind='barh')"
     ],
     "language": "python",
     "metadata": {},
     "outputs": [
      {
       "metadata": {},
       "output_type": "pyout",
       "prompt_number": 302,
       "text": [
        "<matplotlib.axes.AxesSubplot at 0x16244da10>"
       ]
      },
      {
       "metadata": {},
       "output_type": "display_data",
       "png": "[encoded data removed]",
       "text": [
        "<matplotlib.figure.Figure at 0x159d24a50>"
       ]
      }
     ],
     "prompt_number": 302
    },
    {
     "cell_type": "markdown",
     "metadata": {},
     "source": [
      "## 6. Gross Annual Income: A bar chart"
     ]
    },
    {
     "cell_type": "code",
     "collapsed": false,
     "input": [
      "income = bvdf[(bvdf.hshld_income > 0) & (bvdf.hshld_income < 100000)]\n",
      "income.hist(column='hshld_income', bins=20)\n",
      "#income.hshld_income.dropna().plot(kind='kde')"
     ],
     "language": "python",
     "metadata": {},
     "outputs": [
      {
       "metadata": {},
       "output_type": "pyout",
       "prompt_number": 303,
       "text": [
        "array([[<matplotlib.axes.AxesSubplot object at 0x1623a6a90>]], dtype=object)"
       ]
      },
      {
       "metadata": {},
       "output_type": "display_data",
       "png": "[encoded data removed]",
       "text": [
        "<matplotlib.figure.Figure at 0x1623a0fd0>"
       ]
      }
     ],
     "prompt_number": 303
    },
    {
     "cell_type": "code",
     "collapsed": false,
     "input": [
      "highincome = bvdf[(bvdf.hshld_income > 100000)]\n",
      "highincome.hist(column='hshld_income', bins=20)"
     ],
     "language": "python",
     "metadata": {},
     "outputs": [
      {
       "metadata": {},
       "output_type": "pyout",
       "prompt_number": 304,
       "text": [
        "array([[<matplotlib.axes.AxesSubplot object at 0x1205cc890>]], dtype=object)"
       ]
      },
      {
       "metadata": {},
       "output_type": "display_data",
       "png": "[encoded data removed]",
       "text": [
        "<matplotlib.figure.Figure at 0x1205c14d0>"
       ]
      }
     ],
     "prompt_number": 304
    },
    {
     "cell_type": "markdown",
     "metadata": {},
     "source": [
      "## 7. Avg Annual Gross Income by Household Size: A bar chart\n"
     ]
    },
    {
     "cell_type": "code",
     "collapsed": false,
     "input": [
      "income.groupby('hshld_size').hshld_income.mean().plot(kind='barh')"
     ],
     "language": "python",
     "metadata": {},
     "outputs": [
      {
       "metadata": {},
       "output_type": "pyout",
       "prompt_number": 305,
       "text": [
        "<matplotlib.axes.AxesSubplot at 0x11be0fed0>"
       ]
      },
      {
       "metadata": {},
       "output_type": "display_data",
       "png": "[encoded data removed]",
       "text": [
        "<matplotlib.figure.Figure at 0x10b279350>"
       ]
      }
     ],
     "prompt_number": 305
    },
    {
     "cell_type": "markdown",
     "metadata": {},
     "source": [
      "## 8. Referring agency frequency linked with whether need was met or not."
     ]
    },
    {
     "cell_type": "markdown",
     "metadata": {},
     "source": [
      "## 9. Race"
     ]
    },
    {
     "cell_type": "code",
     "collapsed": false,
     "input": [
      "bvdf.race = bvdf.race.fillna(\"No answer\")"
     ],
     "language": "python",
     "metadata": {},
     "outputs": [],
     "prompt_number": 306
    },
    {
     "cell_type": "code",
     "collapsed": false,
     "input": [
      "bvdf.head(2)"
     ],
     "language": "python",
     "metadata": {},
     "outputs": [
      {
       "html": [
        "<div style=\"max-height:1000px;max-width:1500px;overflow:auto;\">\n",
        "<table border=\"1\" class=\"dataframe\">\n",
        "  <thead>\n",
        "    <tr style=\"text-align: right;\">\n",
        "      <th></th>\n",
        "      <th>need_tax_code</th>\n",
        "      <th>need_tax_cat</th>\n",
        "      <th>call_stat</th>\n",
        "      <th>restrictions</th>\n",
        "      <th>create_time</th>\n",
        "      <th>client_id</th>\n",
        "      <th>queue</th>\n",
        "      <th>call_type</th>\n",
        "      <th>relationship</th>\n",
        "      <th>called_before</th>\n",
        "      <th>how_hear</th>\n",
        "      <th>have_ins</th>\n",
        "      <th>hshld_disabled</th>\n",
        "      <th>gender</th>\n",
        "      <th>age_goups</th>\n",
        "      <th>caller_age</th>\n",
        "      <th>preg_lt6</th>\n",
        "      <th>child_lt6</th>\n",
        "      <th>ethnicity</th>\n",
        "      <th>race</th>\n",
        "      <th>language</th>\n",
        "      <th>hshld_size</th>\n",
        "      <th>hshld_size_code</th>\n",
        "      <th>hshld_income</th>\n",
        "      <th>hshld_pct_fpl</th>\n",
        "      <th>hshld_pct_fpl_code</th>\n",
        "      <th>income_declined</th>\n",
        "      <th>zip</th>\n",
        "      <th>zip_code</th>\n",
        "      <th>week</th>\n",
        "      <th>month</th>\n",
        "      <th>weekday</th>\n",
        "      <th>hour</th>\n",
        "    </tr>\n",
        "    <tr>\n",
        "      <th>id</th>\n",
        "      <th></th>\n",
        "      <th></th>\n",
        "      <th></th>\n",
        "      <th></th>\n",
        "      <th></th>\n",
        "      <th></th>\n",
        "      <th></th>\n",
        "      <th></th>\n",
        "      <th></th>\n",
        "      <th></th>\n",
        "      <th></th>\n",
        "      <th></th>\n",
        "      <th></th>\n",
        "      <th></th>\n",
        "      <th></th>\n",
        "      <th></th>\n",
        "      <th></th>\n",
        "      <th></th>\n",
        "      <th></th>\n",
        "      <th></th>\n",
        "      <th></th>\n",
        "      <th></th>\n",
        "      <th></th>\n",
        "      <th></th>\n",
        "      <th></th>\n",
        "      <th></th>\n",
        "      <th></th>\n",
        "      <th></th>\n",
        "      <th></th>\n",
        "      <th></th>\n",
        "      <th></th>\n",
        "      <th></th>\n",
        "      <th></th>\n",
        "    </tr>\n",
        "  </thead>\n",
        "  <tbody>\n",
        "    <tr>\n",
        "      <th>15</th>\n",
        "      <td> BV-8900.9300-250</td>\n",
        "      <td> Gas Service Payment Assistance</td>\n",
        "      <td> NaN</td>\n",
        "      <td> 211 San Diego</td>\n",
        "      <td>2013-07-01 04:36:45.671108</td>\n",
        "      <td> 13110515</td>\n",
        "      <td> Utilities</td>\n",
        "      <td> Assessment and Referral</td>\n",
        "      <td> Self</td>\n",
        "      <td> Yes</td>\n",
        "      <td> Repeat Caller</td>\n",
        "      <td> Yes</td>\n",
        "      <td> Yes</td>\n",
        "      <td> Male</td>\n",
        "      <td>            NaN</td>\n",
        "      <td>NaN</td>\n",
        "      <td> NaN</td>\n",
        "      <td> 0</td>\n",
        "      <td>                               NaN</td>\n",
        "      <td> No answer</td>\n",
        "      <td> English</td>\n",
        "      <td> 3</td>\n",
        "      <td> NaN</td>\n",
        "      <td>NaN</td>\n",
        "      <td>NaN</td>\n",
        "      <td> NaN</td>\n",
        "      <td> NaN</td>\n",
        "      <td> 91942</td>\n",
        "      <td> NaN</td>\n",
        "      <td> 27</td>\n",
        "      <td> 7</td>\n",
        "      <td> 0</td>\n",
        "      <td> 4</td>\n",
        "    </tr>\n",
        "    <tr>\n",
        "      <th>50</th>\n",
        "      <td> BV-8900.9300-250</td>\n",
        "      <td> Gas Service Payment Assistance</td>\n",
        "      <td> NaN</td>\n",
        "      <td> 211 San Diego</td>\n",
        "      <td>2013-07-01 06:52:12.134670</td>\n",
        "      <td> 13111812</td>\n",
        "      <td> Utilities</td>\n",
        "      <td> Assessment and Referral</td>\n",
        "      <td> Self</td>\n",
        "      <td> Yes</td>\n",
        "      <td> Repeat Caller</td>\n",
        "      <td> Yes</td>\n",
        "      <td> Yes</td>\n",
        "      <td> Male</td>\n",
        "      <td> 50 to 54 years</td>\n",
        "      <td>NaN</td>\n",
        "      <td> NaN</td>\n",
        "      <td> 0</td>\n",
        "      <td> Hispanic/Latino or Spanish Origin</td>\n",
        "      <td> No answer</td>\n",
        "      <td> English</td>\n",
        "      <td> 2</td>\n",
        "      <td> NaN</td>\n",
        "      <td>  0</td>\n",
        "      <td>NaN</td>\n",
        "      <td> NaN</td>\n",
        "      <td> NaN</td>\n",
        "      <td> 92103</td>\n",
        "      <td> NaN</td>\n",
        "      <td> 27</td>\n",
        "      <td> 7</td>\n",
        "      <td> 0</td>\n",
        "      <td> 6</td>\n",
        "    </tr>\n",
        "  </tbody>\n",
        "</table>\n",
        "</div>"
       ],
       "metadata": {},
       "output_type": "pyout",
       "prompt_number": 307,
       "text": [
        "       need_tax_code                    need_tax_cat call_stat   restrictions  \\\n",
        "id                                                                              \n",
        "15  BV-8900.9300-250  Gas Service Payment Assistance       NaN  211 San Diego   \n",
        "50  BV-8900.9300-250  Gas Service Payment Assistance       NaN  211 San Diego   \n",
        "\n",
        "                  create_time  client_id      queue                call_type  \\\n",
        "id                                                                             \n",
        "15 2013-07-01 04:36:45.671108   13110515  Utilities  Assessment and Referral   \n",
        "50 2013-07-01 06:52:12.134670   13111812  Utilities  Assessment and Referral   \n",
        "\n",
        "   relationship called_before       how_hear have_ins hshld_disabled gender  \\\n",
        "id                                                                            \n",
        "15         Self           Yes  Repeat Caller      Yes            Yes   Male   \n",
        "50         Self           Yes  Repeat Caller      Yes            Yes   Male   \n",
        "\n",
        "         age_goups  caller_age preg_lt6  child_lt6  \\\n",
        "id                                                   \n",
        "15             NaN         NaN      NaN          0   \n",
        "50  50 to 54 years         NaN      NaN          0   \n",
        "\n",
        "                            ethnicity       race language  hshld_size  \\\n",
        "id                                                                      \n",
        "15                                NaN  No answer  English           3   \n",
        "50  Hispanic/Latino or Spanish Origin  No answer  English           2   \n",
        "\n",
        "   hshld_size_code  hshld_income  hshld_pct_fpl hshld_pct_fpl_code  \\\n",
        "id                                                                   \n",
        "15             NaN           NaN            NaN                NaN   \n",
        "50             NaN             0            NaN                NaN   \n",
        "\n",
        "   income_declined    zip zip_code  week  month  weekday  hour  \n",
        "id                                                              \n",
        "15             NaN  91942      NaN    27      7        0     4  \n",
        "50             NaN  92103      NaN    27      7        0     6  "
       ]
      }
     ],
     "prompt_number": 307
    },
    {
     "cell_type": "code",
     "collapsed": false,
     "input": [
      "# Grouping by races\n",
      "white = bvdf['race'].str.contains(\"White\") \n",
      "whitecauc = bvdf.race == \"White - Caucasian\"\n",
      "whitemide = bvdf['race'].str.contains(\"White - Middle Eastern\")\n",
      "whiteother = white & ~whitecauc & ~whitemide\n",
      "afam = bvdf.race == \"African American\"\n",
      "hisplat = bvdf['race'].str.contains(\"Hispanic/Latino\")\n",
      "declined = bvdf.race == \"Declined to State\"\n",
      "multiracial = bvdf.race == \"Biracial/multi-ethnic\"\n",
      "asian = bvdf['race'].str.contains(\"Asian\")\n",
      "pacisl = bvdf['race'].str.contains(\"Pacific Islander\")\n",
      "other = bvdf.race == \"Other\"\n",
      "native = bvdf['race'].str.contains(\"American Indian\")\n",
      "african = native = bvdf['race'].str.contains(\"African -\")\n",
      "\n",
      "# DataFrame for new group races\n",
      "\n",
      "index = (\"White - Caucasian\",\n",
      "         \"White - Middle Eastern\",\n",
      "         \"White - Other\",\n",
      "         \"African American\",\n",
      "         \"Hispanic/Latino\",\n",
      "         \"Declined to State\",\n",
      "         \"Biracial/multi-ethnic\",\n",
      "         \"Asian\",\n",
      "         \"Pacific Islander\",\n",
      "         \"Other\",\n",
      "         \"American Indian\",\n",
      "         \"African American\") \n",
      "\n",
      "race = pd.DataFrame({\n",
      "'# of Callers':pd.Series((whitecauc.sum(),\n",
      "                          whitemide.sum(),\n",
      "                          whiteother.sum(),\n",
      "                          afam.sum(),\n",
      "                          hisplat.sum(),\n",
      "                          declined.sum(),\n",
      "                          multiracial.sum(),\n",
      "                          asian.sum(),\n",
      "                          pacisl.sum(),\n",
      "                          other.sum(),\n",
      "                          native.sum(),\n",
      "                          african.sum()),index)})\n",
      "\n",
      "race = race.sort('# of Callers', ascending=False)\n",
      "race.plot(kind='barh')"
     ],
     "language": "python",
     "metadata": {},
     "outputs": [
      {
       "metadata": {},
       "output_type": "pyout",
       "prompt_number": 308,
       "text": [
        "<matplotlib.axes.AxesSubplot at 0x156257bd0>"
       ]
      },
      {
       "metadata": {},
       "output_type": "display_data",
       "png": "[encoded data removed]",
       "text": [
        "<matplotlib.figure.Figure at 0x1213a5b50>"
       ]
      }
     ],
     "prompt_number": 308
    },
    {
     "cell_type": "code",
     "collapsed": false,
     "input": [
      "bvdf[asian].race.value_counts().plot(kind='barh')"
     ],
     "language": "python",
     "metadata": {},
     "outputs": [
      {
       "metadata": {},
       "output_type": "pyout",
       "prompt_number": 309,
       "text": [
        "<matplotlib.axes.AxesSubplot at 0x15d02cf10>"
       ]
      },
      {
       "metadata": {},
       "output_type": "display_data",
       "png": "[encoded data removed]",
       "text": [
        "<matplotlib.figure.Figure at 0x1623a11d0>"
       ]
      }
     ],
     "prompt_number": 309
    },
    {
     "cell_type": "code",
     "collapsed": false,
     "input": [
      "bvdf[hisplat].race.value_counts().plot(kind='barh')"
     ],
     "language": "python",
     "metadata": {},
     "outputs": [
      {
       "metadata": {},
       "output_type": "pyout",
       "prompt_number": 310,
       "text": [
        "<matplotlib.axes.AxesSubplot at 0x1205dfe10>"
       ]
      },
      {
       "metadata": {},
       "output_type": "display_data",
       "png": "[encoded data removed]",
       "text": [
        "<matplotlib.figure.Figure at 0x15d020e90>"
       ]
      }
     ],
     "prompt_number": 310
    },
    {
     "cell_type": "code",
     "collapsed": false,
     "input": [
      "bvdf[african].race.value_counts().plot(kind='barh')"
     ],
     "language": "python",
     "metadata": {},
     "outputs": [
      {
       "metadata": {},
       "output_type": "pyout",
       "prompt_number": 311,
       "text": [
        "<matplotlib.axes.AxesSubplot at 0x142c13d50>"
       ]
      },
      {
       "metadata": {},
       "output_type": "display_data",
       "png": "[encoded data removed]",
       "text": [
        "<matplotlib.figure.Figure at 0x156257490>"
       ]
      }
     ],
     "prompt_number": 311
    }
   ],
   "metadata": {}
  }
 ]
}