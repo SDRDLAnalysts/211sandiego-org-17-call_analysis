{
 "metadata": {
  "name": "",
  "signature": "sha256:92fb4d719aa072701e92befb807fc71793da7138e4f92124e6f62f28f74e8508"
 },
 "nbformat": 3,
 "nbformat_minor": 0,
 "worksheets": [
  {
   "cells": [
    {
     "cell_type": "code",
     "collapsed": false,
     "input": [
      "%matplotlib inline\n",
      "import pandas as pd\n",
      "import matplotlib.pyplot as plt\n",
      "import numpy as np\n",
      "pd.options.display.max_columns = 50\n",
      "\n",
      "# You'll probably need to run 'sudo pip install sdipylib' for this to work\n",
      "from  sdipylib.url import cache_url\n",
      "from IPython.core.display import HTML\n",
      "print \"pandas\",pd.__version__\n",
      "print \"numpy\", np.__version__"
     ],
     "language": "python",
     "metadata": {},
     "outputs": [
      {
       "output_type": "stream",
       "stream": "stdout",
       "text": [
        "pandas 0.14.1\n",
        "numpy 1.8.2\n"
       ]
      }
     ],
     "prompt_number": 42
    },
    {
     "cell_type": "code",
     "collapsed": false,
     "input": [
      "# cache_url will download the URL and store it in a local file, but when it is called a second time, it uses the\n",
      "# downloaded file. You'll have to delete the file externally to get an update. \n",
      "\n",
      "fn  = cache_url('http://warehouse.sandiegodata.org/211/fc22cee6-acfa-4236-a6cb-e0d887eba178/211_deduped_service_calls.csv')\n",
      "fn2 = cache_url('http://warehouse.sandiegodata.org/211/fc22cee6-acfa-4236-a6cb-e0d887eba178/211_need_tax.csv')\n",
      "fn3 = cache_url('http://warehouse.sandiegodata.org/211/fc22cee6-acfa-4236-a6cb-e0d887eba178/211_orig_service_calls.csv')\n",
      "fn4 = cache_url('http://warehouse.sandiegodata.org/211/fc22cee6-acfa-4236-a6cb-e0d887eba178/211_agencies.csv')\n",
      "\n",
      "print fn\n",
      "print fn2\n",
      "print fn3\n",
      "\n",
      "# Read_csv guesses that some columns are numbers, and complains when a string appears, so we have to be \n",
      "# explicit about the datatyps of these columns. \n",
      "\n",
      "deduped = pd.read_csv(fn,dtype =   {15: str, 25: str, 27: str})\n",
      "needs = pd.read_csv(fn2)\n",
      "orig = pd.read_csv(fn3)\n",
      "agencies = pd.read_csv(fn4)"
     ],
     "language": "python",
     "metadata": {},
     "outputs": [
      {
       "output_type": "stream",
       "stream": "stdout",
       "text": [
        "Wrote 3300385 bytes, total 39820487\n"
       ]
      },
      {
       "output_type": "stream",
       "stream": "stdout",
       "text": [
        "/Users/Gonzalo/IPython Notebooks/211sandiego.org-17-call_analysis/analysts/211_deduped_service_calls.csv\n",
        "/Users/Gonzalo/IPython Notebooks/211sandiego.org-17-call_analysis/analysts/211_need_tax.csv\n",
        "/Users/Gonzalo/IPython Notebooks/211sandiego.org-17-call_analysis/analysts/211_orig_service_calls.csv\n"
       ]
      }
     ],
     "prompt_number": 37
    },
    {
     "cell_type": "markdown",
     "metadata": {},
     "source": [
      "#Utilities Profile\n",
      "\n",
      "1. Call volume distribution by week, month, year: When are they calling?\n",
      "2. Needs Category Distribution: What are they calling for?\n",
      "3. Gender distribution: A piechart\n",
      "4. Age group distribution: A bar chart\n",
      "5. Household size: A bar chart\n",
      "6. Gross Annual Income: A bar chart\n",
      "7. Avg Annual Gross Income by Household Size: A bar chart\n",
      "8. Referring agency frequency linked with whether need was met or not.\n",
      "9. Free exploration: race/ethnicity.\n"
     ]
    },
    {
     "cell_type": "markdown",
     "metadata": {},
     "source": [
      "---"
     ]
    },
    {
     "cell_type": "markdown",
     "metadata": {},
     "source": [
      "# Merge and Subset "
     ]
    },
    {
     "cell_type": "code",
     "collapsed": false,
     "input": [
      "#Setting Index for DEDUPED\n",
      "deduped = deduped.set_index(['id'])\n",
      "\n",
      "#Setting Index for NEEDS\n",
      "needs = needs.drop('id', 1)\n",
      "needs = needs.set_index(['calls_id'])\n",
      "needs.index.names = ['id']"
     ],
     "language": "python",
     "metadata": {},
     "outputs": [],
     "prompt_number": 4
    },
    {
     "cell_type": "code",
     "collapsed": false,
     "input": [
      "#Subset of NEEDS\n",
      "needs.need_tax_code = needs.need_tax_code.fillna(\"\")\n",
      "BV = needs.need_tax_code.str.contains(\"BV\")\n",
      "needsBV = needs[BV]"
     ],
     "language": "python",
     "metadata": {},
     "outputs": [],
     "prompt_number": 9
    },
    {
     "cell_type": "code",
     "collapsed": false,
     "input": [
      "#Merging DEDUPED and needsBV\n",
      "needsBV = needsBV.sort_index(axis=0, by=None, ascending=True)\n",
      "bvdf = needsBV.join(deduped, how='left')"
     ],
     "language": "python",
     "metadata": {},
     "outputs": [],
     "prompt_number": 10
    },
    {
     "cell_type": "code",
     "collapsed": false,
     "input": [
      "bvdf.head()"
     ],
     "language": "python",
     "metadata": {},
     "outputs": [
      {
       "html": [
        "<div style=\"max-height:1000px;max-width:1500px;overflow:auto;\">\n",
        "<table border=\"1\" class=\"dataframe\">\n",
        "  <thead>\n",
        "    <tr style=\"text-align: right;\">\n",
        "      <th></th>\n",
        "      <th>need_tax_code</th>\n",
        "      <th>need_tax_cat</th>\n",
        "      <th>call_stat</th>\n",
        "      <th>restrictions</th>\n",
        "      <th>create_time</th>\n",
        "      <th>client_id</th>\n",
        "      <th>queue</th>\n",
        "      <th>call_type</th>\n",
        "      <th>relationship</th>\n",
        "      <th>called_before</th>\n",
        "      <th>how_hear</th>\n",
        "      <th>have_ins</th>\n",
        "      <th>hshld_disabled</th>\n",
        "      <th>gender</th>\n",
        "      <th>age_goups</th>\n",
        "      <th>caller_age</th>\n",
        "      <th>preg_lt6</th>\n",
        "      <th>child_lt6</th>\n",
        "      <th>ethnicity</th>\n",
        "      <th>race</th>\n",
        "      <th>language</th>\n",
        "      <th>hshld_size</th>\n",
        "      <th>hshld_size_code</th>\n",
        "      <th>hshld_income</th>\n",
        "      <th>hshld_pct_fpl</th>\n",
        "      <th>hshld_pct_fpl_code</th>\n",
        "      <th>income_declined</th>\n",
        "      <th>zip</th>\n",
        "      <th>zip_code</th>\n",
        "    </tr>\n",
        "    <tr>\n",
        "      <th>id</th>\n",
        "      <th></th>\n",
        "      <th></th>\n",
        "      <th></th>\n",
        "      <th></th>\n",
        "      <th></th>\n",
        "      <th></th>\n",
        "      <th></th>\n",
        "      <th></th>\n",
        "      <th></th>\n",
        "      <th></th>\n",
        "      <th></th>\n",
        "      <th></th>\n",
        "      <th></th>\n",
        "      <th></th>\n",
        "      <th></th>\n",
        "      <th></th>\n",
        "      <th></th>\n",
        "      <th></th>\n",
        "      <th></th>\n",
        "      <th></th>\n",
        "      <th></th>\n",
        "      <th></th>\n",
        "      <th></th>\n",
        "      <th></th>\n",
        "      <th></th>\n",
        "      <th></th>\n",
        "      <th></th>\n",
        "      <th></th>\n",
        "      <th></th>\n",
        "    </tr>\n",
        "  </thead>\n",
        "  <tbody>\n",
        "    <tr>\n",
        "      <th>15 </th>\n",
        "      <td> BV-8900.9300-250</td>\n",
        "      <td>      Gas Service Payment Assistance</td>\n",
        "      <td> NaN</td>\n",
        "      <td> 211 San Diego</td>\n",
        "      <td> 07/01/2013 04:36:45.671108 PDT</td>\n",
        "      <td> 13110515</td>\n",
        "      <td> Utilities</td>\n",
        "      <td> Assessment and Referral</td>\n",
        "      <td> Self</td>\n",
        "      <td> Yes</td>\n",
        "      <td> Repeat Caller</td>\n",
        "      <td> Yes</td>\n",
        "      <td>               Yes</td>\n",
        "      <td>   Male</td>\n",
        "      <td>               NaN</td>\n",
        "      <td>NaN</td>\n",
        "      <td> NaN</td>\n",
        "      <td> 0</td>\n",
        "      <td>                               NaN</td>\n",
        "      <td>               NaN</td>\n",
        "      <td> English</td>\n",
        "      <td>  3</td>\n",
        "      <td>               NaN</td>\n",
        "      <td>   NaN</td>\n",
        "      <td>NaN</td>\n",
        "      <td> NaN</td>\n",
        "      <td> NaN</td>\n",
        "      <td> 91942</td>\n",
        "      <td> NaN</td>\n",
        "    </tr>\n",
        "    <tr>\n",
        "      <th>50 </th>\n",
        "      <td> BV-8900.9300-250</td>\n",
        "      <td>      Gas Service Payment Assistance</td>\n",
        "      <td> NaN</td>\n",
        "      <td> 211 San Diego</td>\n",
        "      <td>  07/01/2013 06:52:12.13467 PDT</td>\n",
        "      <td> 13111812</td>\n",
        "      <td> Utilities</td>\n",
        "      <td> Assessment and Referral</td>\n",
        "      <td> Self</td>\n",
        "      <td> Yes</td>\n",
        "      <td> Repeat Caller</td>\n",
        "      <td> Yes</td>\n",
        "      <td>               Yes</td>\n",
        "      <td>   Male</td>\n",
        "      <td>    50 to 54 years</td>\n",
        "      <td>NaN</td>\n",
        "      <td> NaN</td>\n",
        "      <td> 0</td>\n",
        "      <td> Hispanic/Latino or Spanish Origin</td>\n",
        "      <td>               NaN</td>\n",
        "      <td> English</td>\n",
        "      <td>  2</td>\n",
        "      <td>               NaN</td>\n",
        "      <td>     0</td>\n",
        "      <td>NaN</td>\n",
        "      <td> NaN</td>\n",
        "      <td> NaN</td>\n",
        "      <td> 92103</td>\n",
        "      <td> NaN</td>\n",
        "    </tr>\n",
        "    <tr>\n",
        "      <th>80 </th>\n",
        "      <td> BV-8900.9300-180</td>\n",
        "      <td> Electric Service Payment Assistance</td>\n",
        "      <td> NaN</td>\n",
        "      <td> 211 San Diego</td>\n",
        "      <td> 07/01/2013 07:24:53.505671 PDT</td>\n",
        "      <td> 13112528</td>\n",
        "      <td> Utilities</td>\n",
        "      <td> Assessment and Referral</td>\n",
        "      <td> Self</td>\n",
        "      <td> Yes</td>\n",
        "      <td>           NaN</td>\n",
        "      <td>  No</td>\n",
        "      <td>                No</td>\n",
        "      <td> Female</td>\n",
        "      <td>    50 to 54 years</td>\n",
        "      <td>NaN</td>\n",
        "      <td> NaN</td>\n",
        "      <td> 0</td>\n",
        "      <td>            Non-Hispanic or Latino</td>\n",
        "      <td> White - Caucasian</td>\n",
        "      <td> English</td>\n",
        "      <td>  2</td>\n",
        "      <td>               NaN</td>\n",
        "      <td> 60000</td>\n",
        "      <td>NaN</td>\n",
        "      <td> NaN</td>\n",
        "      <td> NaN</td>\n",
        "      <td> 91942</td>\n",
        "      <td> NaN</td>\n",
        "    </tr>\n",
        "    <tr>\n",
        "      <th>116</th>\n",
        "      <td> BV-8900.9300-180</td>\n",
        "      <td> Electric Service Payment Assistance</td>\n",
        "      <td> NaN</td>\n",
        "      <td> 211 San Diego</td>\n",
        "      <td> 07/01/2013 07:59:03.397587 PDT</td>\n",
        "      <td> 13113436</td>\n",
        "      <td> Utilities</td>\n",
        "      <td> Assessment and Referral</td>\n",
        "      <td> Self</td>\n",
        "      <td> Yes</td>\n",
        "      <td>           NaN</td>\n",
        "      <td> NaN</td>\n",
        "      <td> Declined to State</td>\n",
        "      <td> Female</td>\n",
        "      <td> Declined to State</td>\n",
        "      <td>NaN</td>\n",
        "      <td> NaN</td>\n",
        "      <td> 0</td>\n",
        "      <td>                 Declined to State</td>\n",
        "      <td> Declined to State</td>\n",
        "      <td> English</td>\n",
        "      <td>NaN</td>\n",
        "      <td> Declined to State</td>\n",
        "      <td>     0</td>\n",
        "      <td>NaN</td>\n",
        "      <td> NaN</td>\n",
        "      <td> NaN</td>\n",
        "      <td> 92115</td>\n",
        "      <td> NaN</td>\n",
        "    </tr>\n",
        "    <tr>\n",
        "      <th>133</th>\n",
        "      <td> BV-8900.9300-180</td>\n",
        "      <td> Electric Service Payment Assistance</td>\n",
        "      <td> NaN</td>\n",
        "      <td> 211 San Diego</td>\n",
        "      <td> 07/01/2013 08:15:05.241345 PDT</td>\n",
        "      <td> 13113902</td>\n",
        "      <td> Utilities</td>\n",
        "      <td>             Information</td>\n",
        "      <td> Self</td>\n",
        "      <td> Yes</td>\n",
        "      <td> Repeat Caller</td>\n",
        "      <td> NaN</td>\n",
        "      <td> Declined to State</td>\n",
        "      <td> Female</td>\n",
        "      <td>               NaN</td>\n",
        "      <td>NaN</td>\n",
        "      <td> NaN</td>\n",
        "      <td> 0</td>\n",
        "      <td>                               NaN</td>\n",
        "      <td>               NaN</td>\n",
        "      <td> English</td>\n",
        "      <td>NaN</td>\n",
        "      <td> Declined to State</td>\n",
        "      <td>     0</td>\n",
        "      <td>NaN</td>\n",
        "      <td> NaN</td>\n",
        "      <td> NaN</td>\n",
        "      <td> 92054</td>\n",
        "      <td> NaN</td>\n",
        "    </tr>\n",
        "  </tbody>\n",
        "</table>\n",
        "</div>"
       ],
       "metadata": {},
       "output_type": "pyout",
       "prompt_number": 13,
       "text": [
        "        need_tax_code                         need_tax_cat call_stat  \\\n",
        "id                                                                     \n",
        "15   BV-8900.9300-250       Gas Service Payment Assistance       NaN   \n",
        "50   BV-8900.9300-250       Gas Service Payment Assistance       NaN   \n",
        "80   BV-8900.9300-180  Electric Service Payment Assistance       NaN   \n",
        "116  BV-8900.9300-180  Electric Service Payment Assistance       NaN   \n",
        "133  BV-8900.9300-180  Electric Service Payment Assistance       NaN   \n",
        "\n",
        "      restrictions                     create_time  client_id      queue  \\\n",
        "id                                                                         \n",
        "15   211 San Diego  07/01/2013 04:36:45.671108 PDT   13110515  Utilities   \n",
        "50   211 San Diego   07/01/2013 06:52:12.13467 PDT   13111812  Utilities   \n",
        "80   211 San Diego  07/01/2013 07:24:53.505671 PDT   13112528  Utilities   \n",
        "116  211 San Diego  07/01/2013 07:59:03.397587 PDT   13113436  Utilities   \n",
        "133  211 San Diego  07/01/2013 08:15:05.241345 PDT   13113902  Utilities   \n",
        "\n",
        "                   call_type relationship called_before       how_hear  \\\n",
        "id                                                                       \n",
        "15   Assessment and Referral         Self           Yes  Repeat Caller   \n",
        "50   Assessment and Referral         Self           Yes  Repeat Caller   \n",
        "80   Assessment and Referral         Self           Yes            NaN   \n",
        "116  Assessment and Referral         Self           Yes            NaN   \n",
        "133              Information         Self           Yes  Repeat Caller   \n",
        "\n",
        "    have_ins     hshld_disabled  gender          age_goups  caller_age  \\\n",
        "id                                                                       \n",
        "15       Yes                Yes    Male                NaN         NaN   \n",
        "50       Yes                Yes    Male     50 to 54 years         NaN   \n",
        "80        No                 No  Female     50 to 54 years         NaN   \n",
        "116      NaN  Declined to State  Female  Declined to State         NaN   \n",
        "133      NaN  Declined to State  Female                NaN         NaN   \n",
        "\n",
        "    preg_lt6  child_lt6                          ethnicity               race  \\\n",
        "id                                                                              \n",
        "15       NaN          0                                NaN                NaN   \n",
        "50       NaN          0  Hispanic/Latino or Spanish Origin                NaN   \n",
        "80       NaN          0             Non-Hispanic or Latino  White - Caucasian   \n",
        "116      NaN          0                  Declined to State  Declined to State   \n",
        "133      NaN          0                                NaN                NaN   \n",
        "\n",
        "    language  hshld_size    hshld_size_code  hshld_income  hshld_pct_fpl  \\\n",
        "id                                                                         \n",
        "15   English           3                NaN           NaN            NaN   \n",
        "50   English           2                NaN             0            NaN   \n",
        "80   English           2                NaN         60000            NaN   \n",
        "116  English         NaN  Declined to State             0            NaN   \n",
        "133  English         NaN  Declined to State             0            NaN   \n",
        "\n",
        "    hshld_pct_fpl_code income_declined    zip zip_code  \n",
        "id                                                      \n",
        "15                 NaN             NaN  91942      NaN  \n",
        "50                 NaN             NaN  92103      NaN  \n",
        "80                 NaN             NaN  91942      NaN  \n",
        "116                NaN             NaN  92115      NaN  \n",
        "133                NaN             NaN  92054      NaN  "
       ]
      }
     ],
     "prompt_number": 13
    },
    {
     "cell_type": "code",
     "collapsed": false,
     "input": [
      "print \"Number of calls:\",len(bvdf)"
     ],
     "language": "python",
     "metadata": {},
     "outputs": [
      {
       "output_type": "stream",
       "stream": "stdout",
       "text": [
        "Number of calls: 30964\n"
       ]
      }
     ],
     "prompt_number": 14
    },
    {
     "cell_type": "markdown",
     "metadata": {},
     "source": [
      "##1. Time of Call"
     ]
    },
    {
     "cell_type": "code",
     "collapsed": false,
     "input": [
      "from datetime import datetime\n",
      "def string_to_date(date_string):\n",
      "    return datetime.strptime(date_string, \"%m/%d/%Y %H:%M:%S.%f %Z\")\n",
      "\n",
      "# Run the function on every date string and overwrite the column\n",
      "bvdf.create_time = bvdf.create_time.apply(string_to_date)"
     ],
     "language": "python",
     "metadata": {},
     "outputs": [],
     "prompt_number": 15
    },
    {
     "cell_type": "code",
     "collapsed": false,
     "input": [
      "bvdf[\"week\"] = bvdf.create_time.apply(lambda d : d.week)\n",
      "call_volume_per_week = bvdf.groupby(['week']).size()\n",
      "\n",
      "bvdf[\"month\"] = bvdf.create_time.apply(lambda d : d.month)\n",
      "call_volume_per_month = bvdf.groupby(['month']).size()\n",
      "\n",
      "bvdf[\"weekday\"] = bvdf.create_time.apply(lambda d : d.weekday())\n",
      "call_volume_per_weekday = bvdf.groupby(['weekday']).size()\n",
      "\n",
      "bvdf[\"hour\"] = bvdf.create_time.apply(lambda d : d.hour)\n",
      "call_volume_per_hour = bvdf.groupby(['hour']).size()"
     ],
     "language": "python",
     "metadata": {},
     "outputs": [],
     "prompt_number": 16
    },
    {
     "cell_type": "code",
     "collapsed": false,
     "input": [
      "call_volume_per_month.plot(kind='bar', ylim=(0,4000),figsize=(12, 4))"
     ],
     "language": "python",
     "metadata": {},
     "outputs": [
      {
       "metadata": {},
       "output_type": "pyout",
       "prompt_number": 35,
       "text": [
        "<matplotlib.axes.AxesSubplot at 0x10a7e5c10>"
       ]
      },
      {
       "metadata": {},
       "output_type": "display_data",
       "png": "[encoded data removed]",
       "text": [
        "<matplotlib.figure.Figure at 0x10a09ced0>"
       ]
      }
     ],
     "prompt_number": 35
    },
    {
     "cell_type": "code",
     "collapsed": false,
     "input": [
      "call_volume_per_week.plot(kind='bar',figsize=(12, 4))"
     ],
     "language": "python",
     "metadata": {},
     "outputs": [
      {
       "metadata": {},
       "output_type": "pyout",
       "prompt_number": 32,
       "text": [
        "<matplotlib.axes.AxesSubplot at 0x1099f5650>"
       ]
      },
      {
       "metadata": {},
       "output_type": "display_data",
       "png": "[encoded data removed]",
       "text": [
        "<matplotlib.figure.Figure at 0x1099e7e50>"
       ]
      }
     ],
     "prompt_number": 32
    },
    {
     "cell_type": "code",
     "collapsed": false,
     "input": [
      "weekday_v_hour = bvdf[[\"weekday\", \"hour\"]].groupby([\"weekday\",\"hour\"]).size().unstack(level=1).fillna(0)\n",
      "\n",
      "plt.pcolor(weekday_v_hour) \n",
      "plt.yticks(np.arange(0, len(weekday_v_hour.index), 1), weekday_v_hour.index)\n",
      "plt.xticks(np.arange(0, len(weekday_v_hour.columns), 1), weekday_v_hour.columns)\n",
      "plt.title(\"Call Volume\")\n",
      "plt.xlabel(\"Hour of day\")\n",
      "plt.ylabel(\"Day of the week\")\n",
      "plt.xlim(4,22)\n",
      "plt.show()"
     ],
     "language": "python",
     "metadata": {},
     "outputs": [
      {
       "metadata": {},
       "output_type": "display_data",
       "png": "[encoded data removed]",
       "text": [
        "<matplotlib.figure.Figure at 0x10a886e90>"
       ]
      }
     ],
     "prompt_number": 36
    },
    {
     "cell_type": "markdown",
     "metadata": {},
     "source": [
      "##3. Gender Distribution"
     ]
    },
    {
     "cell_type": "code",
     "collapsed": false,
     "input": [
      "print bvdf.gender.value_counts()\n",
      "bvdf.gender.value_counts().plot(kind='pie')"
     ],
     "language": "python",
     "metadata": {},
     "outputs": [
      {
       "output_type": "stream",
       "stream": "stdout",
       "text": [
        "Female    23445\n",
        "Male       7468\n",
        "dtype: int64\n"
       ]
      },
      {
       "metadata": {},
       "output_type": "pyout",
       "prompt_number": 20,
       "text": [
        "<matplotlib.axes.AxesSubplot at 0x1084c6490>"
       ]
      },
      {
       "metadata": {},
       "output_type": "display_data",
       "png": "[encoded data removed]",
       "text": [
        "<matplotlib.figure.Figure at 0x120049c10>"
       ]
      }
     ],
     "prompt_number": 20
    },
    {
     "cell_type": "markdown",
     "metadata": {},
     "source": [
      "## 4. Age group distribution: A bar chart\n"
     ]
    },
    {
     "cell_type": "code",
     "collapsed": false,
     "input": [
      "age = pd.DataFrame({'age_group':bvdf.age_goups.value_counts()})\n",
      "age = age.sort_index(axis=0, by=None, ascending=True).T\n",
      "age = age[['Under 5 years','5 to 9 years',\n",
      "         '10 to 14 years','15 to 19 years',\n",
      "         '20 to 24 years','25 to 29 years',\n",
      "         '30 to 34 years','35 to 39 years',\n",
      "         '40 to 44 years','45 to 49 years',\n",
      "         '50 to 54 years','55 to 59 years',\n",
      "         '60 to 64 years','65 to 69 years',\n",
      "         '70 to 74 years','75 to 79 years',\n",
      "         '80 to 84 years','85 to 89 years',\n",
      "         '90 to 94 years','95 to 99 years',\n",
      "         '100 years and older','Declined to State']].T\n",
      "age.plot(kind='barh',figsize=(10, 6))"
     ],
     "language": "python",
     "metadata": {},
     "outputs": [
      {
       "metadata": {},
       "output_type": "pyout",
       "prompt_number": 21,
       "text": [
        "<matplotlib.axes.AxesSubplot at 0x1200499d0>"
       ]
      },
      {
       "metadata": {},
       "output_type": "display_data",
       "png": "[encoded data removed]",
       "text": [
        "<matplotlib.figure.Figure at 0x1084b0b90>"
       ]
      }
     ],
     "prompt_number": 21
    },
    {
     "cell_type": "markdown",
     "metadata": {},
     "source": [
      "## 5. Household size: A bar chart\n"
     ]
    },
    {
     "cell_type": "code",
     "collapsed": false,
     "input": [
      "bvdf[['age_goups','hshld_size']].groupby('hshld_size').size().plot(kind='barh')"
     ],
     "language": "python",
     "metadata": {},
     "outputs": [
      {
       "metadata": {},
       "output_type": "pyout",
       "prompt_number": 22,
       "text": [
        "<matplotlib.axes.AxesSubplot at 0x107c9ae90>"
       ]
      },
      {
       "metadata": {},
       "output_type": "display_data",
       "png": "[encoded data removed]",
       "text": [
        "<matplotlib.figure.Figure at 0x10272c110>"
       ]
      }
     ],
     "prompt_number": 22
    },
    {
     "cell_type": "code",
     "collapsed": false,
     "input": [
      "len(bvdf.hshld_size)"
     ],
     "language": "python",
     "metadata": {},
     "outputs": [
      {
       "metadata": {},
       "output_type": "pyout",
       "prompt_number": 45,
       "text": [
        "30964"
       ]
      }
     ],
     "prompt_number": 45
    },
    {
     "cell_type": "markdown",
     "metadata": {},
     "source": [
      "## 6. Gross Annual Income: A bar chart"
     ]
    },
    {
     "cell_type": "code",
     "collapsed": false,
     "input": [
      "income = bvdf[(bvdf.hshld_income > 0) & (bvdf.hshld_income < 100000)]\n",
      "income.hist(column='hshld_income', bins=20)\n",
      "#income.hshld_income.dropna().plot(kind='kde')"
     ],
     "language": "python",
     "metadata": {},
     "outputs": [
      {
       "metadata": {},
       "output_type": "pyout",
       "prompt_number": 23,
       "text": [
        "array([[<matplotlib.axes.AxesSubplot object at 0x107ca9d90>]], dtype=object)"
       ]
      },
      {
       "metadata": {},
       "output_type": "display_data",
       "png": "[encoded data removed]",
       "text": [
        "<matplotlib.figure.Figure at 0x107cae310>"
       ]
      }
     ],
     "prompt_number": 23
    },
    {
     "cell_type": "code",
     "collapsed": false,
     "input": [
      "highincome = bvdf[(bvdf.hshld_income > 100000)]\n",
      "highincome.hist(column='hshld_income', bins=20)"
     ],
     "language": "python",
     "metadata": {},
     "outputs": [
      {
       "metadata": {},
       "output_type": "pyout",
       "prompt_number": 24,
       "text": [
        "array([[<matplotlib.axes.AxesSubplot object at 0x107c6a150>]], dtype=object)"
       ]
      },
      {
       "metadata": {},
       "output_type": "display_data",
       "png": "[encoded data removed]",
       "text": [
        "<matplotlib.figure.Figure at 0x107c70250>"
       ]
      }
     ],
     "prompt_number": 24
    },
    {
     "cell_type": "markdown",
     "metadata": {},
     "source": [
      "## 7. Avg Annual Gross Income by Household Size: A bar chart\n"
     ]
    },
    {
     "cell_type": "code",
     "collapsed": false,
     "input": [
      "income.groupby('hshld_size').hshld_income.mean().plot(kind='barh')"
     ],
     "language": "python",
     "metadata": {},
     "outputs": [
      {
       "metadata": {},
       "output_type": "pyout",
       "prompt_number": 25,
       "text": [
        "<matplotlib.axes.AxesSubplot at 0x107d23610>"
       ]
      },
      {
       "metadata": {},
       "output_type": "display_data",
       "png": "[encoded data removed]",
       "text": [
        "<matplotlib.figure.Figure at 0x1084ac3d0>"
       ]
      }
     ],
     "prompt_number": 25
    },
    {
     "cell_type": "markdown",
     "metadata": {},
     "source": [
      "## 8. Referring agency"
     ]
    },
    {
     "cell_type": "code",
     "collapsed": false,
     "input": [
      "#Setting Index for NEEDS\n",
      "agencies = agencies.drop('id', 1)\n",
      "agencies = agencies.set_index(['calls_id'])\n",
      "agencies.index.names = ['id']\n",
      "agencies.head()"
     ],
     "language": "python",
     "metadata": {},
     "outputs": [
      {
       "html": [
        "<div style=\"max-height:1000px;max-width:1500px;overflow:auto;\">\n",
        "<table border=\"1\" class=\"dataframe\">\n",
        "  <thead>\n",
        "    <tr style=\"text-align: right;\">\n",
        "      <th></th>\n",
        "      <th>ref_agency</th>\n",
        "      <th>ref_name</th>\n",
        "    </tr>\n",
        "    <tr>\n",
        "      <th>id</th>\n",
        "      <th></th>\n",
        "      <th></th>\n",
        "    </tr>\n",
        "  </thead>\n",
        "  <tbody>\n",
        "    <tr>\n",
        "      <th>94397 </th>\n",
        "      <td>                        Birth Choice of San Marcos</td>\n",
        "      <td> Pregnancy Resource Center, Birth Choice of San...</td>\n",
        "    </tr>\n",
        "    <tr>\n",
        "      <th>94397 </th>\n",
        "      <td>                Birthline of San Diego County, Inc</td>\n",
        "      <td> Right-to-Life Pregnancy Support Center, Birthl...</td>\n",
        "    </tr>\n",
        "    <tr>\n",
        "      <th>64316 </th>\n",
        "      <td> Self Sufficiency Programs, Health and Human Se...</td>\n",
        "      <td> Coast2Coast Rx Card Program, Health and Human ...</td>\n",
        "    </tr>\n",
        "    <tr>\n",
        "      <th>64316 </th>\n",
        "      <td>                     Presbyterian Urban Ministries</td>\n",
        "      <td>    Presbyterian Urban Ministries, Client Services</td>\n",
        "    </tr>\n",
        "    <tr>\n",
        "      <th>866894</th>\n",
        "      <td> Maximizing Access to Advance our Communities (...</td>\n",
        "      <td> Fast Track Home Energy Bill Assistance Program...</td>\n",
        "    </tr>\n",
        "  </tbody>\n",
        "</table>\n",
        "</div>"
       ],
       "metadata": {},
       "output_type": "pyout",
       "prompt_number": 41,
       "text": [
        "                                               ref_agency  \\\n",
        "id                                                          \n",
        "94397                          Birth Choice of San Marcos   \n",
        "94397                  Birthline of San Diego County, Inc   \n",
        "64316   Self Sufficiency Programs, Health and Human Se...   \n",
        "64316                       Presbyterian Urban Ministries   \n",
        "866894  Maximizing Access to Advance our Communities (...   \n",
        "\n",
        "                                                 ref_name  \n",
        "id                                                         \n",
        "94397   Pregnancy Resource Center, Birth Choice of San...  \n",
        "94397   Right-to-Life Pregnancy Support Center, Birthl...  \n",
        "64316   Coast2Coast Rx Card Program, Health and Human ...  \n",
        "64316      Presbyterian Urban Ministries, Client Services  \n",
        "866894  Fast Track Home Energy Bill Assistance Program...  "
       ]
      }
     ],
     "prompt_number": 41
    },
    {
     "cell_type": "markdown",
     "metadata": {},
     "source": [
      "## 9. Race"
     ]
    },
    {
     "cell_type": "code",
     "collapsed": false,
     "input": [
      "bvdf.race = bvdf.race.fillna(\"No answer\")"
     ],
     "language": "python",
     "metadata": {},
     "outputs": [],
     "prompt_number": 26
    },
    {
     "cell_type": "code",
     "collapsed": false,
     "input": [
      "bvdf.head(2)"
     ],
     "language": "python",
     "metadata": {},
     "outputs": [
      {
       "html": [
        "<div style=\"max-height:1000px;max-width:1500px;overflow:auto;\">\n",
        "<table border=\"1\" class=\"dataframe\">\n",
        "  <thead>\n",
        "    <tr style=\"text-align: right;\">\n",
        "      <th></th>\n",
        "      <th>need_tax_code</th>\n",
        "      <th>need_tax_cat</th>\n",
        "      <th>call_stat</th>\n",
        "      <th>restrictions</th>\n",
        "      <th>create_time</th>\n",
        "      <th>client_id</th>\n",
        "      <th>queue</th>\n",
        "      <th>call_type</th>\n",
        "      <th>relationship</th>\n",
        "      <th>called_before</th>\n",
        "      <th>how_hear</th>\n",
        "      <th>have_ins</th>\n",
        "      <th>hshld_disabled</th>\n",
        "      <th>gender</th>\n",
        "      <th>age_goups</th>\n",
        "      <th>caller_age</th>\n",
        "      <th>preg_lt6</th>\n",
        "      <th>child_lt6</th>\n",
        "      <th>ethnicity</th>\n",
        "      <th>race</th>\n",
        "      <th>language</th>\n",
        "      <th>hshld_size</th>\n",
        "      <th>hshld_size_code</th>\n",
        "      <th>hshld_income</th>\n",
        "      <th>hshld_pct_fpl</th>\n",
        "      <th>hshld_pct_fpl_code</th>\n",
        "      <th>income_declined</th>\n",
        "      <th>zip</th>\n",
        "      <th>zip_code</th>\n",
        "      <th>week</th>\n",
        "      <th>month</th>\n",
        "      <th>weekday</th>\n",
        "      <th>hour</th>\n",
        "    </tr>\n",
        "    <tr>\n",
        "      <th>id</th>\n",
        "      <th></th>\n",
        "      <th></th>\n",
        "      <th></th>\n",
        "      <th></th>\n",
        "      <th></th>\n",
        "      <th></th>\n",
        "      <th></th>\n",
        "      <th></th>\n",
        "      <th></th>\n",
        "      <th></th>\n",
        "      <th></th>\n",
        "      <th></th>\n",
        "      <th></th>\n",
        "      <th></th>\n",
        "      <th></th>\n",
        "      <th></th>\n",
        "      <th></th>\n",
        "      <th></th>\n",
        "      <th></th>\n",
        "      <th></th>\n",
        "      <th></th>\n",
        "      <th></th>\n",
        "      <th></th>\n",
        "      <th></th>\n",
        "      <th></th>\n",
        "      <th></th>\n",
        "      <th></th>\n",
        "      <th></th>\n",
        "      <th></th>\n",
        "      <th></th>\n",
        "      <th></th>\n",
        "      <th></th>\n",
        "      <th></th>\n",
        "    </tr>\n",
        "  </thead>\n",
        "  <tbody>\n",
        "    <tr>\n",
        "      <th>15</th>\n",
        "      <td> BV-8900.9300-250</td>\n",
        "      <td> Gas Service Payment Assistance</td>\n",
        "      <td> NaN</td>\n",
        "      <td> 211 San Diego</td>\n",
        "      <td>2013-07-01 04:36:45.671108</td>\n",
        "      <td> 13110515</td>\n",
        "      <td> Utilities</td>\n",
        "      <td> Assessment and Referral</td>\n",
        "      <td> Self</td>\n",
        "      <td> Yes</td>\n",
        "      <td> Repeat Caller</td>\n",
        "      <td> Yes</td>\n",
        "      <td> Yes</td>\n",
        "      <td> Male</td>\n",
        "      <td>            NaN</td>\n",
        "      <td>NaN</td>\n",
        "      <td> NaN</td>\n",
        "      <td> 0</td>\n",
        "      <td>                               NaN</td>\n",
        "      <td> No answer</td>\n",
        "      <td> English</td>\n",
        "      <td> 3</td>\n",
        "      <td> NaN</td>\n",
        "      <td>NaN</td>\n",
        "      <td>NaN</td>\n",
        "      <td> NaN</td>\n",
        "      <td> NaN</td>\n",
        "      <td> 91942</td>\n",
        "      <td> NaN</td>\n",
        "      <td> 27</td>\n",
        "      <td> 7</td>\n",
        "      <td> 0</td>\n",
        "      <td> 4</td>\n",
        "    </tr>\n",
        "    <tr>\n",
        "      <th>50</th>\n",
        "      <td> BV-8900.9300-250</td>\n",
        "      <td> Gas Service Payment Assistance</td>\n",
        "      <td> NaN</td>\n",
        "      <td> 211 San Diego</td>\n",
        "      <td>2013-07-01 06:52:12.134670</td>\n",
        "      <td> 13111812</td>\n",
        "      <td> Utilities</td>\n",
        "      <td> Assessment and Referral</td>\n",
        "      <td> Self</td>\n",
        "      <td> Yes</td>\n",
        "      <td> Repeat Caller</td>\n",
        "      <td> Yes</td>\n",
        "      <td> Yes</td>\n",
        "      <td> Male</td>\n",
        "      <td> 50 to 54 years</td>\n",
        "      <td>NaN</td>\n",
        "      <td> NaN</td>\n",
        "      <td> 0</td>\n",
        "      <td> Hispanic/Latino or Spanish Origin</td>\n",
        "      <td> No answer</td>\n",
        "      <td> English</td>\n",
        "      <td> 2</td>\n",
        "      <td> NaN</td>\n",
        "      <td>  0</td>\n",
        "      <td>NaN</td>\n",
        "      <td> NaN</td>\n",
        "      <td> NaN</td>\n",
        "      <td> 92103</td>\n",
        "      <td> NaN</td>\n",
        "      <td> 27</td>\n",
        "      <td> 7</td>\n",
        "      <td> 0</td>\n",
        "      <td> 6</td>\n",
        "    </tr>\n",
        "  </tbody>\n",
        "</table>\n",
        "</div>"
       ],
       "metadata": {},
       "output_type": "pyout",
       "prompt_number": 27,
       "text": [
        "       need_tax_code                    need_tax_cat call_stat   restrictions  \\\n",
        "id                                                                              \n",
        "15  BV-8900.9300-250  Gas Service Payment Assistance       NaN  211 San Diego   \n",
        "50  BV-8900.9300-250  Gas Service Payment Assistance       NaN  211 San Diego   \n",
        "\n",
        "                  create_time  client_id      queue                call_type  \\\n",
        "id                                                                             \n",
        "15 2013-07-01 04:36:45.671108   13110515  Utilities  Assessment and Referral   \n",
        "50 2013-07-01 06:52:12.134670   13111812  Utilities  Assessment and Referral   \n",
        "\n",
        "   relationship called_before       how_hear have_ins hshld_disabled gender  \\\n",
        "id                                                                            \n",
        "15         Self           Yes  Repeat Caller      Yes            Yes   Male   \n",
        "50         Self           Yes  Repeat Caller      Yes            Yes   Male   \n",
        "\n",
        "         age_goups  caller_age preg_lt6  child_lt6  \\\n",
        "id                                                   \n",
        "15             NaN         NaN      NaN          0   \n",
        "50  50 to 54 years         NaN      NaN          0   \n",
        "\n",
        "                            ethnicity       race language  hshld_size  \\\n",
        "id                                                                      \n",
        "15                                NaN  No answer  English           3   \n",
        "50  Hispanic/Latino or Spanish Origin  No answer  English           2   \n",
        "\n",
        "   hshld_size_code  hshld_income  hshld_pct_fpl hshld_pct_fpl_code  \\\n",
        "id                                                                   \n",
        "15             NaN           NaN            NaN                NaN   \n",
        "50             NaN             0            NaN                NaN   \n",
        "\n",
        "   income_declined    zip zip_code  week  month  weekday  hour  \n",
        "id                                                              \n",
        "15             NaN  91942      NaN    27      7        0     4  \n",
        "50             NaN  92103      NaN    27      7        0     6  "
       ]
      }
     ],
     "prompt_number": 27
    },
    {
     "cell_type": "code",
     "collapsed": false,
     "input": [
      "#turn into census categories"
     ],
     "language": "python",
     "metadata": {},
     "outputs": []
    },
    {
     "cell_type": "code",
     "collapsed": false,
     "input": [
      "# Grouping by races\n",
      "white = bvdf['race'].str.contains(\"White\") \n",
      "whitecauc = bvdf.race == \"White - Caucasian\"\n",
      "whitemide = bvdf['race'].str.contains(\"White - Middle Eastern\")\n",
      "whiteother = white & ~whitecauc & ~whitemide\n",
      "afam = bvdf.race == \"African American\"\n",
      "hisplat = bvdf['race'].str.contains(\"Hispanic/Latino\")\n",
      "declined = bvdf.race == \"Declined to State\"\n",
      "multiracial = bvdf.race == \"Biracial/multi-ethnic\"\n",
      "asian = bvdf['race'].str.contains(\"Asian\")\n",
      "pacisl = bvdf['race'].str.contains(\"Pacific Islander\")\n",
      "other = bvdf.race == \"Other\"\n",
      "native = bvdf['race'].str.contains(\"American Indian\")\n",
      "african = bvdf['race'].str.contains(\"African -\")\n",
      "\n",
      "# DataFrame for new group races\n",
      "\n",
      "index = (\"White - Caucasian\",\n",
      "         \"White - Middle Eastern\",\n",
      "         \"White - Other\",\n",
      "         \"African American\",\n",
      "         \"Hispanic/Latino\",\n",
      "         \"Declined to State\",\n",
      "         \"Biracial/multi-ethnic\",\n",
      "         \"Asian\",\n",
      "         \"Pacific Islander\",\n",
      "         \"Other\",\n",
      "         \"American Indian\",\n",
      "         \"African\") \n",
      "\n",
      "race = pd.DataFrame({\n",
      "'# of Callers':pd.Series((whitecauc.sum(),\n",
      "                          whitemide.sum(),\n",
      "                          whiteother.sum(),\n",
      "                          afam.sum(),\n",
      "                          hisplat.sum(),\n",
      "                          declined.sum(),\n",
      "                          multiracial.sum(),\n",
      "                          asian.sum(),\n",
      "                          pacisl.sum(),\n",
      "                          other.sum(),\n",
      "                          native.sum(),\n",
      "                          african.sum()),index)})\n",
      "\n",
      "race = race.sort('# of Callers', ascending=False)\n",
      "race.plot(kind='barh')"
     ],
     "language": "python",
     "metadata": {},
     "outputs": [
      {
       "metadata": {},
       "output_type": "pyout",
       "prompt_number": 47,
       "text": [
        "<matplotlib.axes.AxesSubplot at 0x11dd510d0>"
       ]
      },
      {
       "metadata": {},
       "output_type": "display_data",
       "png": "[encoded data removed]",
       "text": [
        "<matplotlib.figure.Figure at 0x107e67610>"
       ]
      }
     ],
     "prompt_number": 47
    },
    {
     "cell_type": "code",
     "collapsed": false,
     "input": [
      "bvdf[asian].race.value_counts().plot(kind='barh')"
     ],
     "language": "python",
     "metadata": {},
     "outputs": [
      {
       "metadata": {},
       "output_type": "pyout",
       "prompt_number": 29,
       "text": [
        "<matplotlib.axes.AxesSubplot at 0x10860c790>"
       ]
      },
      {
       "metadata": {},
       "output_type": "display_data",
       "png": "[encoded data removed]",
       "text": [
        "<matplotlib.figure.Figure at 0x108615c90>"
       ]
      }
     ],
     "prompt_number": 29
    },
    {
     "cell_type": "code",
     "collapsed": false,
     "input": [
      "bvdf[hisplat].race.value_counts().plot(kind='barh')"
     ],
     "language": "python",
     "metadata": {},
     "outputs": [
      {
       "metadata": {},
       "output_type": "pyout",
       "prompt_number": 30,
       "text": [
        "<matplotlib.axes.AxesSubplot at 0x107e4d350>"
       ]
      },
      {
       "metadata": {},
       "output_type": "display_data",
       "png": "[encoded data removed]",
       "text": [
        "<matplotlib.figure.Figure at 0x1085e1e90>"
       ]
      }
     ],
     "prompt_number": 30
    },
    {
     "cell_type": "code",
     "collapsed": false,
     "input": [
      "bvdf[african].race.value_counts().plot(kind='barh')"
     ],
     "language": "python",
     "metadata": {},
     "outputs": [
      {
       "metadata": {},
       "output_type": "pyout",
       "prompt_number": 31,
       "text": [
        "<matplotlib.axes.AxesSubplot at 0x1097aeed0>"
       ]
      },
      {
       "metadata": {},
       "output_type": "display_data",
       "png": "[encoded data removed]",
       "text": [
        "<matplotlib.figure.Figure at 0x10979d310>"
       ]
      }
     ],
     "prompt_number": 31
    },
    {
     "cell_type": "code",
     "collapsed": false,
     "input": [
      "#zero in on Somali (utilities & general calls)"
     ],
     "language": "python",
     "metadata": {},
     "outputs": [],
     "prompt_number": 48
    },
    {
     "cell_type": "code",
     "collapsed": false,
     "input": [
      "soma = deduped[deduped.race == \"African - Somali\"]\n",
      "df = needs.join(soma, how='left')\n",
      "df"
     ],
     "language": "python",
     "metadata": {},
     "outputs": [
      {
       "ename": "ValueError",
       "evalue": "columns overlap but no suffix specified: Index([u'id'], dtype='object')",
       "output_type": "pyerr",
       "traceback": [
        "\u001b[0;31m---------------------------------------------------------------------------\u001b[0m\n\u001b[0;31mValueError\u001b[0m                                Traceback (most recent call last)",
        "\u001b[0;32m<ipython-input-51-0d27fd3a731f>\u001b[0m in \u001b[0;36m<module>\u001b[0;34m()\u001b[0m\n\u001b[1;32m      1\u001b[0m \u001b[0msoma\u001b[0m \u001b[0;34m=\u001b[0m \u001b[0mdeduped\u001b[0m\u001b[0;34m[\u001b[0m\u001b[0mdeduped\u001b[0m\u001b[0;34m.\u001b[0m\u001b[0mrace\u001b[0m \u001b[0;34m==\u001b[0m \u001b[0;34m\"African - Somali\"\u001b[0m\u001b[0;34m]\u001b[0m\u001b[0;34m\u001b[0m\u001b[0m\n\u001b[1;32m      2\u001b[0m \u001b[0;34m\u001b[0m\u001b[0m\n\u001b[0;32m----> 3\u001b[0;31m \u001b[0mdf\u001b[0m \u001b[0;34m=\u001b[0m \u001b[0mneeds\u001b[0m\u001b[0;34m.\u001b[0m\u001b[0mjoin\u001b[0m\u001b[0;34m(\u001b[0m\u001b[0msoma\u001b[0m\u001b[0;34m,\u001b[0m \u001b[0mhow\u001b[0m\u001b[0;34m=\u001b[0m\u001b[0;34m'left'\u001b[0m\u001b[0;34m)\u001b[0m\u001b[0;34m\u001b[0m\u001b[0m\n\u001b[0m\u001b[1;32m      4\u001b[0m \u001b[0mdf\u001b[0m\u001b[0;34m\u001b[0m\u001b[0m\n",
        "\u001b[0;32m/Library/Python/2.7/site-packages/pandas/core/frame.pyc\u001b[0m in \u001b[0;36mjoin\u001b[0;34m(self, other, on, how, lsuffix, rsuffix, sort)\u001b[0m\n\u001b[1;32m   3738\u001b[0m         \u001b[0;31m# For SparseDataFrame's benefit\u001b[0m\u001b[0;34m\u001b[0m\u001b[0;34m\u001b[0m\u001b[0m\n\u001b[1;32m   3739\u001b[0m         return self._join_compat(other, on=on, how=how, lsuffix=lsuffix,\n\u001b[0;32m-> 3740\u001b[0;31m                                  rsuffix=rsuffix, sort=sort)\n\u001b[0m\u001b[1;32m   3741\u001b[0m \u001b[0;34m\u001b[0m\u001b[0m\n\u001b[1;32m   3742\u001b[0m     def _join_compat(self, other, on=None, how='left', lsuffix='', rsuffix='',\n",
        "\u001b[0;32m/Library/Python/2.7/site-packages/pandas/core/frame.pyc\u001b[0m in \u001b[0;36m_join_compat\u001b[0;34m(self, other, on, how, lsuffix, rsuffix, sort)\u001b[0m\n\u001b[1;32m   3752\u001b[0m             return merge(self, other, left_on=on, how=how,\n\u001b[1;32m   3753\u001b[0m                          \u001b[0mleft_index\u001b[0m\u001b[0;34m=\u001b[0m\u001b[0mon\u001b[0m \u001b[0;32mis\u001b[0m \u001b[0mNone\u001b[0m\u001b[0;34m,\u001b[0m \u001b[0mright_index\u001b[0m\u001b[0;34m=\u001b[0m\u001b[0mTrue\u001b[0m\u001b[0;34m,\u001b[0m\u001b[0;34m\u001b[0m\u001b[0m\n\u001b[0;32m-> 3754\u001b[0;31m                          suffixes=(lsuffix, rsuffix), sort=sort)\n\u001b[0m\u001b[1;32m   3755\u001b[0m         \u001b[0;32melse\u001b[0m\u001b[0;34m:\u001b[0m\u001b[0;34m\u001b[0m\u001b[0m\n\u001b[1;32m   3756\u001b[0m             \u001b[0;32mif\u001b[0m \u001b[0mon\u001b[0m \u001b[0;32mis\u001b[0m \u001b[0;32mnot\u001b[0m \u001b[0mNone\u001b[0m\u001b[0;34m:\u001b[0m\u001b[0;34m\u001b[0m\u001b[0m\n",
        "\u001b[0;32m/Library/Python/2.7/site-packages/pandas/tools/merge.pyc\u001b[0m in \u001b[0;36mmerge\u001b[0;34m(left, right, how, on, left_on, right_on, left_index, right_index, sort, suffixes, copy)\u001b[0m\n\u001b[1;32m     37\u001b[0m                          \u001b[0mright_index\u001b[0m\u001b[0;34m=\u001b[0m\u001b[0mright_index\u001b[0m\u001b[0;34m,\u001b[0m \u001b[0msort\u001b[0m\u001b[0;34m=\u001b[0m\u001b[0msort\u001b[0m\u001b[0;34m,\u001b[0m \u001b[0msuffixes\u001b[0m\u001b[0;34m=\u001b[0m\u001b[0msuffixes\u001b[0m\u001b[0;34m,\u001b[0m\u001b[0;34m\u001b[0m\u001b[0m\n\u001b[1;32m     38\u001b[0m                          copy=copy)\n\u001b[0;32m---> 39\u001b[0;31m     \u001b[0;32mreturn\u001b[0m \u001b[0mop\u001b[0m\u001b[0;34m.\u001b[0m\u001b[0mget_result\u001b[0m\u001b[0;34m(\u001b[0m\u001b[0;34m)\u001b[0m\u001b[0;34m\u001b[0m\u001b[0m\n\u001b[0m\u001b[1;32m     40\u001b[0m \u001b[0;32mif\u001b[0m \u001b[0m__debug__\u001b[0m\u001b[0;34m:\u001b[0m\u001b[0;34m\u001b[0m\u001b[0m\n\u001b[1;32m     41\u001b[0m     \u001b[0mmerge\u001b[0m\u001b[0;34m.\u001b[0m\u001b[0m__doc__\u001b[0m \u001b[0;34m=\u001b[0m \u001b[0m_merge_doc\u001b[0m \u001b[0;34m%\u001b[0m \u001b[0;34m'\\nleft : DataFrame'\u001b[0m\u001b[0;34m\u001b[0m\u001b[0m\n",
        "\u001b[0;32m/Library/Python/2.7/site-packages/pandas/tools/merge.pyc\u001b[0m in \u001b[0;36mget_result\u001b[0;34m(self)\u001b[0m\n\u001b[1;32m    189\u001b[0m \u001b[0;34m\u001b[0m\u001b[0m\n\u001b[1;32m    190\u001b[0m         llabels, rlabels = items_overlap_with_suffix(ldata.items, lsuf,\n\u001b[0;32m--> 191\u001b[0;31m                                                      rdata.items, rsuf)\n\u001b[0m\u001b[1;32m    192\u001b[0m \u001b[0;34m\u001b[0m\u001b[0m\n\u001b[1;32m    193\u001b[0m         \u001b[0mlindexers\u001b[0m \u001b[0;34m=\u001b[0m \u001b[0;34m{\u001b[0m\u001b[0;36m1\u001b[0m\u001b[0;34m:\u001b[0m \u001b[0mleft_indexer\u001b[0m\u001b[0;34m}\u001b[0m \u001b[0;32mif\u001b[0m \u001b[0mleft_indexer\u001b[0m \u001b[0;32mis\u001b[0m \u001b[0;32mnot\u001b[0m \u001b[0mNone\u001b[0m \u001b[0;32melse\u001b[0m \u001b[0;34m{\u001b[0m\u001b[0;34m}\u001b[0m\u001b[0;34m\u001b[0m\u001b[0m\n",
        "\u001b[0;32m/Library/Python/2.7/site-packages/pandas/core/internals.pyc\u001b[0m in \u001b[0;36mitems_overlap_with_suffix\u001b[0;34m(left, lsuffix, right, rsuffix)\u001b[0m\n\u001b[1;32m   3599\u001b[0m         \u001b[0;32mif\u001b[0m \u001b[0;32mnot\u001b[0m \u001b[0mlsuffix\u001b[0m \u001b[0;32mand\u001b[0m \u001b[0;32mnot\u001b[0m \u001b[0mrsuffix\u001b[0m\u001b[0;34m:\u001b[0m\u001b[0;34m\u001b[0m\u001b[0m\n\u001b[1;32m   3600\u001b[0m             raise ValueError('columns overlap but no suffix specified: %s' %\n\u001b[0;32m-> 3601\u001b[0;31m                              to_rename)\n\u001b[0m\u001b[1;32m   3602\u001b[0m \u001b[0;34m\u001b[0m\u001b[0m\n\u001b[1;32m   3603\u001b[0m         \u001b[0;32mdef\u001b[0m \u001b[0mlrenamer\u001b[0m\u001b[0;34m(\u001b[0m\u001b[0mx\u001b[0m\u001b[0;34m)\u001b[0m\u001b[0;34m:\u001b[0m\u001b[0;34m\u001b[0m\u001b[0m\n",
        "\u001b[0;31mValueError\u001b[0m: columns overlap but no suffix specified: Index([u'id'], dtype='object')"
       ]
      }
     ],
     "prompt_number": 51
    },
    {
     "cell_type": "code",
     "collapsed": false,
     "input": [],
     "language": "python",
     "metadata": {},
     "outputs": []
    }
   ],
   "metadata": {}
  }
 ]
}