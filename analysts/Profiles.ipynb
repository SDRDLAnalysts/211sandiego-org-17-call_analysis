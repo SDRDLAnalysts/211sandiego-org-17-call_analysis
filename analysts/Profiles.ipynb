{
 "metadata": {
  "name": "",
  "signature": "sha256:5b5f4e9c5832038f2e4c92fcab90bf67a647c48ff5e22663eddd63d130e78541"
 },
 "nbformat": 3,
 "nbformat_minor": 0,
 "worksheets": [
  {
   "cells": [
    {
     "cell_type": "code",
     "collapsed": false,
     "input": [
      "%matplotlib inline\n",
      "import numpy as np\n",
      "import pandas as pd\n",
      "import matplotlib.pyplot as plt\n",
      "pd.options.display.max_columns = 50\n",
      "\n",
      "# You'll probably need to run 'sudo pip install sdipylib' for this to work\n",
      "from  sdipylib.url import cache_url\n",
      "from IPython.core.display import HTML\n",
      "print \"pandas\",pd.__version__\n",
      "\n",
      "# cache_url will download the URL and store it in a local file, but when it is called a second time, it uses the\n",
      "# downloaded file. You'll have to delete the file externally to get an update. \n",
      "fn = cache_url('http://warehouse.sandiegodata.org/211/fc22cee6-acfa-4236-a6cb-e0d887eba178/211_deduped_service_calls.csv')\n",
      "fn2 = cache_url('http://warehouse.sandiegodata.org/211/fc22cee6-acfa-4236-a6cb-e0d887eba178/211_need_tax.csv')\n",
      "\n",
      "print fn\n",
      "print fn2\n",
      "\n",
      "# Read_csv guesses that some columns are numbers, and complains when a string appears, so we have to be \n",
      "# explicit about the datatyps of these columns. \n",
      "deduped = pd.read_csv(fn,dtype =   {15: str, 25: str, 27: str})\n",
      "needs = pd.read_csv(fn2)"
     ],
     "language": "python",
     "metadata": {},
     "outputs": [
      {
       "output_type": "stream",
       "stream": "stdout",
       "text": [
        "pandas 0.13.1\n",
        "/Users/Gonzalo/IPython Notebooks/211sandiego.org-17-call_analysis/analysts/211_deduped_service_calls.csv\n",
        "/Users/Gonzalo/IPython Notebooks/211sandiego.org-17-call_analysis/analysts/211_need_tax.csv\n"
       ]
      }
     ],
     "prompt_number": 2
    },
    {
     "cell_type": "markdown",
     "metadata": {},
     "source": [
      "We have 2 datasets here:\n",
      "   - **deduped**: *211_deduped_service_calls.csv*\n",
      "   - **needs**: *211_need_tax.csv*\n",
      "   \n",
      "###Exploring Needs"
     ]
    },
    {
     "cell_type": "code",
     "collapsed": false,
     "input": [
      "needs.head()"
     ],
     "language": "python",
     "metadata": {},
     "outputs": [
      {
       "html": [
        "<div style=\"max-height:1000px;max-width:1500px;overflow:auto;\">\n",
        "<table border=\"1\" class=\"dataframe\">\n",
        "  <thead>\n",
        "    <tr style=\"text-align: right;\">\n",
        "      <th></th>\n",
        "      <th>id</th>\n",
        "      <th>calls_id</th>\n",
        "      <th>need_tax_code</th>\n",
        "      <th>need_tax_cat</th>\n",
        "    </tr>\n",
        "  </thead>\n",
        "  <tbody>\n",
        "    <tr>\n",
        "      <th>0</th>\n",
        "      <td> 1</td>\n",
        "      <td>  94397</td>\n",
        "      <td> BD-1800.8200-250</td>\n",
        "      <td>                Formula/Baby Food</td>\n",
        "    </tr>\n",
        "    <tr>\n",
        "      <th>1</th>\n",
        "      <td> 2</td>\n",
        "      <td>  64316</td>\n",
        "      <td>     LH-6700.6250</td>\n",
        "      <td> Prescription Drug Discount Cards</td>\n",
        "    </tr>\n",
        "    <tr>\n",
        "      <th>2</th>\n",
        "      <td> 3</td>\n",
        "      <td> 866894</td>\n",
        "      <td> BV-8900.9300-250</td>\n",
        "      <td>   Gas Service Payment Assistance</td>\n",
        "    </tr>\n",
        "    <tr>\n",
        "      <th>3</th>\n",
        "      <td> 4</td>\n",
        "      <td> 866894</td>\n",
        "      <td>     BV-8900.1700</td>\n",
        "      <td>      Discounted Utility Services</td>\n",
        "    </tr>\n",
        "    <tr>\n",
        "      <th>4</th>\n",
        "      <td> 5</td>\n",
        "      <td> 283551</td>\n",
        "      <td>     FC-2000.8000</td>\n",
        "      <td>                    Supreme Court</td>\n",
        "    </tr>\n",
        "  </tbody>\n",
        "</table>\n",
        "<p>5 rows \u00d7 4 columns</p>\n",
        "</div>"
       ],
       "metadata": {},
       "output_type": "pyout",
       "prompt_number": 72,
       "text": [
        "   id  calls_id     need_tax_code                      need_tax_cat\n",
        "0   1     94397  BD-1800.8200-250                 Formula/Baby Food\n",
        "1   2     64316      LH-6700.6250  Prescription Drug Discount Cards\n",
        "2   3    866894  BV-8900.9300-250    Gas Service Payment Assistance\n",
        "3   4    866894      BV-8900.1700       Discounted Utility Services\n",
        "4   5    283551      FC-2000.8000                     Supreme Court\n",
        "\n",
        "[5 rows x 4 columns]"
       ]
      }
     ],
     "prompt_number": 72
    },
    {
     "cell_type": "markdown",
     "metadata": {},
     "source": [
      "Take the first two letters in **need_tax_code**, and we can find out the parent category need."
     ]
    },
    {
     "cell_type": "code",
     "collapsed": false,
     "input": [
      "from IPython.display import HTML\n",
      "HTML('<iframe src=http://www.211taxonomy.org/search/code-results?code_q=bv height=500 width=800></iframe>')"
     ],
     "language": "python",
     "metadata": {},
     "outputs": [
      {
       "html": [
        "<iframe src=http://www.211taxonomy.org/search/code-results?code_q=bv height=500 width=800></iframe>"
       ],
       "metadata": {},
       "output_type": "pyout",
       "prompt_number": 74,
       "text": [
        "<IPython.core.display.HTML at 0x10d026cd0>"
       ]
      }
     ],
     "prompt_number": 74
    },
    {
     "cell_type": "markdown",
     "metadata": {},
     "source": [
      "Now, let's create a subset of the NEEDS dataset that only contains \"BV\" codes."
     ]
    },
    {
     "cell_type": "code",
     "collapsed": false,
     "input": [
      "# First, fill out NaN's in NEED_TAX_CODE for future comparison\n",
      "needs.need_tax_code = needs.need_tax_code.fillna(\"\")\n",
      "\n",
      "# A mask / filter for UTILITIES\n",
      "BV = needs.need_tax_code.str.contains(\"BV\")\n",
      "\n",
      "# A subset of the dataset containing UTILITIES needs only\n",
      "needsBV = needs[BV]"
     ],
     "language": "python",
     "metadata": {},
     "outputs": [],
     "prompt_number": 89
    },
    {
     "cell_type": "code",
     "collapsed": false,
     "input": [
      "needsBV.need_tax_cat.value_counts()"
     ],
     "language": "python",
     "metadata": {},
     "outputs": [
      {
       "metadata": {},
       "output_type": "pyout",
       "prompt_number": 90,
       "text": [
        "Electric Service Payment Assistance           23118\n",
        "Gas Service Payment Assistance                 3058\n",
        "Discounted Utility Services                    1944\n",
        "Discounted Telephone Service                    980\n",
        "Water Service Payment Assistance                797\n",
        "Utility Service Providers                       287\n",
        "Utilities                                       198\n",
        "Utility Service Connection/Repair               167\n",
        "Heating Fuel Payment Assistance                 159\n",
        "Utility Assistance                              133\n",
        "Utility Service Payment Assistance               65\n",
        "Cable Service Payment Assistance                 14\n",
        "Telephone Service Payment Assistance             12\n",
        "Trash/Recycling Service Payment Assistance        5\n",
        "Discounted Cable Service                          3\n",
        "Percentage of Income Utility Payment Plans        3\n",
        "Digital Television Converter Boxes/Coupons        3\n",
        "Internet Service Payment Assistance               3\n",
        "Water Service Billing/Collection Services         2\n",
        "Utility Bill Payment Plans                        2\n",
        "Telephone Service Providers                       2\n",
        "Discounted Electric Service                       2\n",
        "Discounted Internet Service                       1\n",
        "Water Service Connection/Repair                   1\n",
        "Local Telephone Companies                         1\n",
        "Propane/Home Heating Oil Suppliers                1\n",
        "Utility Deposit Assistance                        1\n",
        "Discounted Water Service                          1\n",
        "Wireless Service Providers                        1\n",
        "dtype: int64"
       ]
      }
     ],
     "prompt_number": 90
    },
    {
     "cell_type": "markdown",
     "metadata": {},
     "source": [
      "Great, *needsBV* is now a subset of *needs* that allows you to work with that particular need/subject."
     ]
    },
    {
     "cell_type": "code",
     "collapsed": false,
     "input": [
      "needsBV.head()"
     ],
     "language": "python",
     "metadata": {},
     "outputs": [
      {
       "html": [
        "<div style=\"max-height:1000px;max-width:1500px;overflow:auto;\">\n",
        "<table border=\"1\" class=\"dataframe\">\n",
        "  <thead>\n",
        "    <tr style=\"text-align: right;\">\n",
        "      <th></th>\n",
        "      <th>id</th>\n",
        "      <th>calls_id</th>\n",
        "      <th>need_tax_code</th>\n",
        "      <th>need_tax_cat</th>\n",
        "    </tr>\n",
        "  </thead>\n",
        "  <tbody>\n",
        "    <tr>\n",
        "      <th>2</th>\n",
        "      <td> 3</td>\n",
        "      <td> 866894</td>\n",
        "      <td> BV-8900.9300-250</td>\n",
        "      <td>      Gas Service Payment Assistance</td>\n",
        "    </tr>\n",
        "    <tr>\n",
        "      <th>3</th>\n",
        "      <td> 4</td>\n",
        "      <td> 866894</td>\n",
        "      <td>     BV-8900.1700</td>\n",
        "      <td>         Discounted Utility Services</td>\n",
        "    </tr>\n",
        "    <tr>\n",
        "      <th>5</th>\n",
        "      <td> 6</td>\n",
        "      <td> 782578</td>\n",
        "      <td> BV-8900.9300-950</td>\n",
        "      <td>    Water Service Payment Assistance</td>\n",
        "    </tr>\n",
        "    <tr>\n",
        "      <th>6</th>\n",
        "      <td> 7</td>\n",
        "      <td> 437218</td>\n",
        "      <td> BV-8900.9300-180</td>\n",
        "      <td> Electric Service Payment Assistance</td>\n",
        "    </tr>\n",
        "    <tr>\n",
        "      <th>7</th>\n",
        "      <td> 8</td>\n",
        "      <td>  42568</td>\n",
        "      <td> BV-8900.1700-850</td>\n",
        "      <td>        Discounted Telephone Service</td>\n",
        "    </tr>\n",
        "  </tbody>\n",
        "</table>\n",
        "<p>5 rows \u00d7 4 columns</p>\n",
        "</div>"
       ],
       "metadata": {},
       "output_type": "pyout",
       "prompt_number": 92,
       "text": [
        "   id  calls_id     need_tax_code                         need_tax_cat\n",
        "2   3    866894  BV-8900.9300-250       Gas Service Payment Assistance\n",
        "3   4    866894      BV-8900.1700          Discounted Utility Services\n",
        "5   6    782578  BV-8900.9300-950     Water Service Payment Assistance\n",
        "6   7    437218  BV-8900.9300-180  Electric Service Payment Assistance\n",
        "7   8     42568  BV-8900.1700-850         Discounted Telephone Service\n",
        "\n",
        "[5 rows x 4 columns]"
       ]
      }
     ],
     "prompt_number": 92
    },
    {
     "cell_type": "markdown",
     "metadata": {},
     "source": [
      "###How do we merge *Deduped* with *Needs*?\n",
      "\n",
      "Notice that the **needs** dataset only contains one identifier: *calls_id*. \n",
      "\n",
      "This identifier does not seem to match with the *client_id* in the **deduped** data "
     ]
    },
    {
     "cell_type": "code",
     "collapsed": false,
     "input": [
      "print \"Calls ID in needs span from:\",needs.calls_id.min(),\", to:\", needs.calls_id.max()"
     ],
     "language": "python",
     "metadata": {},
     "outputs": [
      {
       "output_type": "stream",
       "stream": "stdout",
       "text": [
        "Calls ID in needs span from: 1 , to: 894555\n"
       ]
      }
     ],
     "prompt_number": 95
    },
    {
     "cell_type": "code",
     "collapsed": false,
     "input": [
      "print \"Client ID in deduped span from:\",deduped.client_id.min(),\", to:\", deduped.client_id.max()"
     ],
     "language": "python",
     "metadata": {},
     "outputs": [
      {
       "output_type": "stream",
       "stream": "stdout",
       "text": [
        "Client ID in deduped span from: 13110365 , to: 17323097\n"
       ]
      }
     ],
     "prompt_number": 98
    }
   ],
   "metadata": {}
  }
 ]
}