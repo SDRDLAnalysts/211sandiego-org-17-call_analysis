{
 "metadata": {
  "name": "",
  "signature": "sha256:f8e286216eaa5abb7eb8e405a78c77e7a91d9e5386f6878c3e8d63e55ae77f98"
 },
 "nbformat": 3,
 "nbformat_minor": 0,
 "worksheets": [
  {
   "cells": [
    {
     "cell_type": "code",
     "collapsed": false,
     "input": [
      "%matplotlib inline\n",
      "import numpy as np\n",
      "import pandas as pd\n",
      "import matplotlib.pyplot as plt\n",
      "pd.options.display.max_columns = 50\n",
      "\n",
      "# You'll probably need to run 'sudo pip install sdipylib' for this to work\n",
      "from  sdipylib.url import cache_url\n",
      "from IPython.core.display import HTML\n",
      "pd.__version__\n",
      "\n",
      "# cache_url will download the URL and store it in a local file, but when it is called a second time, it uses the\n",
      "# downloaded file. You'll have to delete the file externally to get an update. \n",
      "fn = cache_url('http://warehouse.sandiegodata.org/211/fc22cee6-acfa-4236-a6cb-e0d887eba178/211_deduped_service_calls.csv')\n",
      "fn2 = cache_url('http://warehouse.sandiegodata.org/211/fc22cee6-acfa-4236-a6cb-e0d887eba178/211_need_tax.csv')\n",
      "\n",
      "print fn\n",
      "print fn2\n",
      "\n",
      "# Read_csv guesses that some columns are numbers, and complains when a string appears, so we have to be \n",
      "# explicit about the datatyps of these columns. \n",
      "deduped = pd.read_csv(fn,dtype =  {16: str, 26: str, 27: str, 29: str})\n",
      "needs = pd.read_csv(fn2)"
     ],
     "language": "python",
     "metadata": {},
     "outputs": [
      {
       "output_type": "stream",
       "stream": "stdout",
       "text": [
        "/Users/Gonzalo/IPython Notebooks/211sandiego.org-17-call_analysis/analysts/211_deduped_service_calls.csv\n",
        "/Users/Gonzalo/IPython Notebooks/211sandiego.org-17-call_analysis/analysts/211_need_tax.csv\n"
       ]
      }
     ],
     "prompt_number": 71
    },
    {
     "cell_type": "code",
     "collapsed": false,
     "input": [
      "needs.head()"
     ],
     "language": "python",
     "metadata": {},
     "outputs": [
      {
       "html": [
        "<div style=\"max-height:1000px;max-width:1500px;overflow:auto;\">\n",
        "<table border=\"1\" class=\"dataframe\">\n",
        "  <thead>\n",
        "    <tr style=\"text-align: right;\">\n",
        "      <th></th>\n",
        "      <th>id</th>\n",
        "      <th>calls_id</th>\n",
        "      <th>need_tax_code</th>\n",
        "      <th>need_tax_cat</th>\n",
        "    </tr>\n",
        "  </thead>\n",
        "  <tbody>\n",
        "    <tr>\n",
        "      <th>0</th>\n",
        "      <td> 1</td>\n",
        "      <td>  94397</td>\n",
        "      <td> BD-1800.8200-250</td>\n",
        "      <td>                Formula/Baby Food</td>\n",
        "    </tr>\n",
        "    <tr>\n",
        "      <th>1</th>\n",
        "      <td> 2</td>\n",
        "      <td>  64316</td>\n",
        "      <td>     LH-6700.6250</td>\n",
        "      <td> Prescription Drug Discount Cards</td>\n",
        "    </tr>\n",
        "    <tr>\n",
        "      <th>2</th>\n",
        "      <td> 3</td>\n",
        "      <td> 866894</td>\n",
        "      <td> BV-8900.9300-250</td>\n",
        "      <td>   Gas Service Payment Assistance</td>\n",
        "    </tr>\n",
        "    <tr>\n",
        "      <th>3</th>\n",
        "      <td> 4</td>\n",
        "      <td> 866894</td>\n",
        "      <td>     BV-8900.1700</td>\n",
        "      <td>      Discounted Utility Services</td>\n",
        "    </tr>\n",
        "    <tr>\n",
        "      <th>4</th>\n",
        "      <td> 5</td>\n",
        "      <td> 283551</td>\n",
        "      <td>     FC-2000.8000</td>\n",
        "      <td>                    Supreme Court</td>\n",
        "    </tr>\n",
        "  </tbody>\n",
        "</table>\n",
        "<p>5 rows \u00d7 4 columns</p>\n",
        "</div>"
       ],
       "metadata": {},
       "output_type": "pyout",
       "prompt_number": 72,
       "text": [
        "   id  calls_id     need_tax_code                      need_tax_cat\n",
        "0   1     94397  BD-1800.8200-250                 Formula/Baby Food\n",
        "1   2     64316      LH-6700.6250  Prescription Drug Discount Cards\n",
        "2   3    866894  BV-8900.9300-250    Gas Service Payment Assistance\n",
        "3   4    866894      BV-8900.1700       Discounted Utility Services\n",
        "4   5    283551      FC-2000.8000                     Supreme Court\n",
        "\n",
        "[5 rows x 4 columns]"
       ]
      }
     ],
     "prompt_number": 72
    },
    {
     "cell_type": "code",
     "collapsed": false,
     "input": [
      "#setting the index for the NEEDS dataframe to later merge with DEDUPED dataframe\n",
      "#needs = needs.set_index('calls_id')\n",
      "\n",
      "#exploring the codes in NEEDS data\n",
      "needs.need_tax_code.value_counts()"
     ],
     "language": "python",
     "metadata": {},
     "outputs": [
      {
       "metadata": {},
       "output_type": "pyout",
       "prompt_number": 73,
       "text": [
        "BV-8900.9300-180    23118\n",
        "NL-6000.2000-220    19649\n",
        "TJ-3000.8000        13954\n",
        "BD-1800.2000-640    11071\n",
        "NL-5000.5000-520     9429\n",
        "BH-1800.8500         7830\n",
        "LH-3000.3050         7282\n",
        "BH-3900              6350\n",
        "BH-8600              6193\n",
        "BH-3800.7000         5636\n",
        "DT-8800.9300-930     3620\n",
        "LN-1500              3389\n",
        "TB-1100.1000         3380\n",
        "TJ-3200.1600         3160\n",
        "BV-8900.9300-250     3058\n",
        "...\n",
        "LH-2600.2000-600       1\n",
        "TH-2900.1780           1\n",
        "NL-1000.6000           1\n",
        "BT-4800.4550           1\n",
        "LJ-2000.1000           1\n",
        "TO-6200                1\n",
        "LH-0600.5000-970.50    1\n",
        "TJ-6750                1\n",
        "LT-1750.4900           1\n",
        "LF-7100.1400           1\n",
        "LJ-2000.6750-150       1\n",
        "BD-1800.1000           1\n",
        "DD-1500.1330           1\n",
        "TH-2900.6400           1\n",
        "TI-1800.6850           1\n",
        "Length: 1858, dtype: int64"
       ]
      }
     ],
     "prompt_number": 73
    },
    {
     "cell_type": "code",
     "collapsed": false,
     "input": [
      "from IPython.display import HTML\n",
      "HTML('<iframe src=http://www.211taxonomy.org/search/code-results?code_q=bv height=500 width=800></iframe>')"
     ],
     "language": "python",
     "metadata": {},
     "outputs": [
      {
       "html": [
        "<iframe src=http://www.211taxonomy.org/search/code-results?code_q=bv height=500 width=800></iframe>"
       ],
       "metadata": {},
       "output_type": "pyout",
       "prompt_number": 74,
       "text": [
        "<IPython.core.display.HTML at 0x10d026cd0>"
       ]
      }
     ],
     "prompt_number": 74
    },
    {
     "cell_type": "code",
     "collapsed": false,
     "input": [
      "# Filling out NaN's in NEED_TAX_CODE for filtering\n",
      "needs.need_tax_code = needs.need_tax_code.fillna(\"\")\n",
      "\n",
      "# A mask / filter for UTILITIES\n",
      "BV = needs.need_tax_code.str.contains(\"BV\")\n",
      "\n",
      "# A subset of the dataset containing UTILITIES needs only\n",
      "needsBV = needs[BV]"
     ],
     "language": "python",
     "metadata": {},
     "outputs": [],
     "prompt_number": 75
    },
    {
     "cell_type": "code",
     "collapsed": false,
     "input": [
      "needsBV.need_tax_cat.value_counts()"
     ],
     "language": "python",
     "metadata": {},
     "outputs": [
      {
       "metadata": {},
       "output_type": "pyout",
       "prompt_number": 76,
       "text": [
        "Electric Service Payment Assistance           23118\n",
        "Gas Service Payment Assistance                 3058\n",
        "Discounted Utility Services                    1944\n",
        "Discounted Telephone Service                    980\n",
        "Water Service Payment Assistance                797\n",
        "Utility Service Providers                       287\n",
        "Utilities                                       198\n",
        "Utility Service Connection/Repair               167\n",
        "Heating Fuel Payment Assistance                 159\n",
        "Utility Assistance                              133\n",
        "Utility Service Payment Assistance               65\n",
        "Cable Service Payment Assistance                 14\n",
        "Telephone Service Payment Assistance             12\n",
        "Trash/Recycling Service Payment Assistance        5\n",
        "Discounted Cable Service                          3\n",
        "Percentage of Income Utility Payment Plans        3\n",
        "Digital Television Converter Boxes/Coupons        3\n",
        "Internet Service Payment Assistance               3\n",
        "Water Service Billing/Collection Services         2\n",
        "Utility Bill Payment Plans                        2\n",
        "Telephone Service Providers                       2\n",
        "Discounted Electric Service                       2\n",
        "Discounted Internet Service                       1\n",
        "Water Service Connection/Repair                   1\n",
        "Local Telephone Companies                         1\n",
        "Propane/Home Heating Oil Suppliers                1\n",
        "Utility Deposit Assistance                        1\n",
        "Discounted Water Service                          1\n",
        "Wireless Service Providers                        1\n",
        "dtype: int64"
       ]
      }
     ],
     "prompt_number": 76
    },
    {
     "cell_type": "markdown",
     "metadata": {},
     "source": [
      "###How to Merge *Deduped* with *Needs*?\n",
      "\n",
      "Notice that the **needs** dataset only contains one identifier: *calls_id*. \n",
      "\n",
      "This identifier does not seem to match with the *client_id* in the **deduped** data "
     ]
    },
    {
     "cell_type": "code",
     "collapsed": false,
     "input": [
      "deduped[['client_id']].boxplot()"
     ],
     "language": "python",
     "metadata": {},
     "outputs": [
      {
       "metadata": {},
       "output_type": "pyout",
       "prompt_number": 84,
       "text": [
        "{'boxes': [<matplotlib.lines.Line2D at 0x118da3490>],\n",
        " 'caps': [<matplotlib.lines.Line2D at 0x118d9fa50>,\n",
        "  <matplotlib.lines.Line2D at 0x118d9ff50>],\n",
        " 'fliers': [<matplotlib.lines.Line2D at 0x118da3e90>,\n",
        "  <matplotlib.lines.Line2D at 0x118daa390>],\n",
        " 'medians': [<matplotlib.lines.Line2D at 0x118da3990>],\n",
        " 'whiskers': [<matplotlib.lines.Line2D at 0x118d9f090>,\n",
        "  <matplotlib.lines.Line2D at 0x118d9f1d0>]}"
       ]
      },
      {
       "metadata": {},
       "output_type": "display_data",
       "png": "[encoded data removed]",
       "text": [
        "<matplotlib.figure.Figure at 0x10cd63850>"
       ]
      }
     ],
     "prompt_number": 84
    },
    {
     "cell_type": "code",
     "collapsed": false,
     "input": [
      "needs.calls_id.describe()"
     ],
     "language": "python",
     "metadata": {},
     "outputs": [
      {
       "metadata": {},
       "output_type": "pyout",
       "prompt_number": 80,
       "text": [
        "count    277520.000000\n",
        "mean     437907.472849\n",
        "std      257845.788413\n",
        "min           1.000000\n",
        "25%      212163.750000\n",
        "50%      433759.500000\n",
        "75%      658818.000000\n",
        "max      894555.000000\n",
        "Name: calls_id, dtype: float64"
       ]
      }
     ],
     "prompt_number": 80
    },
    {
     "cell_type": "code",
     "collapsed": false,
     "input": [
      "needs[['calls_id']].boxplot()"
     ],
     "language": "python",
     "metadata": {},
     "outputs": [
      {
       "metadata": {},
       "output_type": "pyout",
       "prompt_number": 86,
       "text": [
        "{'boxes': [<matplotlib.lines.Line2D at 0x1163b3050>],\n",
        " 'caps': [<matplotlib.lines.Line2D at 0x1163cf650>,\n",
        "  <matplotlib.lines.Line2D at 0x1163cfb10>],\n",
        " 'fliers': [<matplotlib.lines.Line2D at 0x1163b3a50>,\n",
        "  <matplotlib.lines.Line2D at 0x1163b3f10>],\n",
        " 'medians': [<matplotlib.lines.Line2D at 0x1163b3550>],\n",
        " 'whiskers': [<matplotlib.lines.Line2D at 0x116ba5b10>,\n",
        "  <matplotlib.lines.Line2D at 0x1163cf150>]}"
       ]
      },
      {
       "metadata": {},
       "output_type": "display_data",
       "png": "[encoded data removed]",
       "text": [
        "<matplotlib.figure.Figure at 0x116bcfe90>"
       ]
      }
     ],
     "prompt_number": 86
    },
    {
     "cell_type": "markdown",
     "metadata": {},
     "source": []
    }
   ],
   "metadata": {}
  }
 ]
}