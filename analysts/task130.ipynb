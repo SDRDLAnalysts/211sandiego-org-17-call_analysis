{
 "metadata": {
  "name": "",
  "signature": "sha256:d5a304f32b2107617d416985dd472dbc7b4a78a78d54e4922bd7d3e4720204ca"
 },
 "nbformat": 3,
 "nbformat_minor": 0,
 "worksheets": [
  {
   "cells": [
    {
     "cell_type": "code",
     "collapsed": false,
     "input": [
      "%matplotlib inline\n",
      "import pandas as pd\n",
      "import matplotlib.pyplot as plt\n",
      "import numpy as np\n",
      "pd.options.display.max_columns = 50\n",
      "# You'll probably need to run 'sudo pip install sdipylib' for this to work\n",
      "from  sdipylib.url import cache_url\n",
      "from IPython.core.display import HTML\n",
      "print \"pandas\",pd.__version__\n",
      "print \"numpy\", np.__version__"
     ],
     "language": "python",
     "metadata": {},
     "outputs": [
      {
       "output_type": "stream",
       "stream": "stdout",
       "text": [
        "pandas 0.14.1\n",
        "numpy 1.8.2\n"
       ]
      }
     ],
     "prompt_number": 1
    },
    {
     "cell_type": "code",
     "collapsed": false,
     "input": [
      "fn  = cache_url('http://warehouse.sandiegodata.org/211/fc22cee6-acfa-4236-a6cb-e0d887eba178/211_deduped_service_calls.csv')\n",
      "fn2 = cache_url('http://warehouse.sandiegodata.org/211/fc22cee6-acfa-4236-a6cb-e0d887eba178/211_need_tax.csv')\n",
      "deduped = pd.read_csv(fn,dtype =   {15: str, 25: str, 27: str})\n",
      "needs = pd.read_csv(fn2)\n",
      "\n",
      "#Setting Index for DEDUPED\n",
      "deduped = deduped.set_index(['id'])\n",
      "\n",
      "#Setting Index for NEEDS\n",
      "needs = needs.drop('id', 1)\n",
      "needs = needs.set_index(['calls_id'])\n",
      "needs.index.names = ['id']\n",
      "\n",
      "deduped = needs.join(deduped, how='left')"
     ],
     "language": "python",
     "metadata": {},
     "outputs": [],
     "prompt_number": 2
    },
    {
     "cell_type": "heading",
     "level": 3,
     "metadata": {},
     "source": [
      "Categories in which males call more than females"
     ]
    },
    {
     "cell_type": "code",
     "collapsed": false,
     "input": [
      "needs_compared = deduped.groupby(['need_tax_cat','gender'])\n",
      "compare_gender = needs_compared.count()['need_tax_code'] # Creates a milti-index series with need at 1st level and gender at 2nd\n",
      "more_compare = compare_gender.index.get_level_values('need_tax_cat') # Gets list of needs for multi-index\n",
      "compare_list = []\n",
      "for cat in more_compare: # Compares number of males and females\n",
      "    values = compare_gender[cat].values\n",
      "    if len(values) == 2:\n",
      "        if values[1] > values[0] and values[1] > 50: # Excludes needs where less than 50 men called\n",
      "            if cat not in compare_list:\n",
      "                print cat, '- Female:', values[0], 'Male:', values[1]\n",
      "                compare_list.append(cat) "
     ],
     "language": "python",
     "metadata": {},
     "outputs": [
      {
       "output_type": "stream",
       "stream": "stdout",
       "text": [
        "Adult Residential Treatment Facilities - Female: 55 Male: 62\n",
        "Alcohol Detoxification - Female: 60 Male: 66\n",
        "Basic Needs"
       ]
      },
      {
       "output_type": "stream",
       "stream": "stdout",
       "text": [
        " - Female: 176 Male: 331\n",
        "Ex-Offender Employment Programs"
       ]
      },
      {
       "output_type": "stream",
       "stream": "stdout",
       "text": [
        " - Female: 40 Male: 66\n",
        "Graffiti Reporting"
       ]
      },
      {
       "output_type": "stream",
       "stream": "stdout",
       "text": [
        " - Female: 49 Male: 109\n",
        "Homeless Financial Assistance Programs"
       ]
      },
      {
       "output_type": "stream",
       "stream": "stdout",
       "text": [
        " - Female: 382 Male: 510\n",
        "Inpatient Drug Abuse Treatment Facilities"
       ]
      },
      {
       "output_type": "stream",
       "stream": "stdout",
       "text": [
        " - Female: 69 Male: 73\n",
        "Job Readiness - Female:"
       ]
      },
      {
       "output_type": "stream",
       "stream": "stdout",
       "text": [
        " 68 Male: 98\n",
        "Laundry Facilities"
       ]
      },
      {
       "output_type": "stream",
       "stream": "stdout",
       "text": [
        " - Female: 49 Male: 54\n",
        "Methadone Maintenance"
       ]
      },
      {
       "output_type": "stream",
       "stream": "stdout",
       "text": [
        " - Female: 60 Male: 66\n",
        "Residential Alcoholism Treatment Facilities"
       ]
      },
      {
       "output_type": "stream",
       "stream": "stdout",
       "text": [
        " - Female: 335 Male: 366\n",
        "Sober Living Homes"
       ]
      },
      {
       "output_type": "stream",
       "stream": "stdout",
       "text": [
        " - Female: 56 Male: 63\n",
        "Temporary Mailing Address"
       ]
      },
      {
       "output_type": "stream",
       "stream": "stdout",
       "text": [
        " - Female: 60 Male: 61\n",
        "Veteran Benefits Assistance"
       ]
      },
      {
       "output_type": "stream",
       "stream": "stdout",
       "text": [
        " - Female: 94 Male: 120\n"
       ]
      }
     ],
     "prompt_number": 3
    },
    {
     "cell_type": "heading",
     "level": 3,
     "metadata": {},
     "source": [
      "Top 10 needs of male callers"
     ]
    },
    {
     "cell_type": "code",
     "collapsed": false,
     "input": [
      "needs_grouped = deduped.groupby('need_tax_cat')\n",
      "male_needs_most = needs_grouped.gender.value_counts()[:10]\n",
      "type(male_needs_most)#male_needs_most.plot(kind='barh')"
     ],
     "language": "python",
     "metadata": {},
     "outputs": [
      {
       "metadata": {},
       "output_type": "pyout",
       "prompt_number": 4,
       "text": [
        "pandas.core.series.Series"
       ]
      }
     ],
     "prompt_number": 4
    },
    {
     "cell_type": "code",
     "collapsed": false,
     "input": [
      "male_df = deduped[deduped.gender == 'Male']\n",
      "grouped_male = male_df.groupby('gender')\n",
      "need_count_male = grouped_male.need_tax_cat.value_counts().order(ascending=False)[:10]\n",
      "need_count_male.plot(kind=\"barh\", title='Top 10 needs of male callers')"
     ],
     "language": "python",
     "metadata": {},
     "outputs": [
      {
       "metadata": {},
       "output_type": "pyout",
       "prompt_number": 5,
       "text": [
        "<matplotlib.axes.AxesSubplot at 0x304ab30>"
       ]
      },
      {
       "metadata": {},
       "output_type": "display_data",
       "png": "[encoded data removed]",
       "text": [
        "<matplotlib.figure.Figure at 0x304aa10>"
       ]
      }
     ],
     "prompt_number": 5
    }
   ],
   "metadata": {}
  }
 ]
}